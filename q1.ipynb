{
  "cells": [
    {
      "cell_type": "markdown",
      "metadata": {
        "id": "view-in-github",
        "colab_type": "text"
      },
      "source": [
        "<a href=\"https://colab.research.google.com/github/Amrutha-murthi/AIRL/blob/main/q1.ipynb\" target=\"_parent\"><img src=\"https://colab.research.google.com/assets/colab-badge.svg\" alt=\"Open In Colab\"/></a>"
      ]
    },
    {
      "cell_type": "code",
      "execution_count": null,
      "metadata": {
        "id": "dPHRisFK4luI"
      },
      "outputs": [],
      "source": [
        "# ===============================\n",
        "# 🔹 Cell 1: Install dependencies\n",
        "# ===============================\n",
        "!pip install torch torchvision timm -q\n"
      ]
    },
    {
      "cell_type": "code",
      "execution_count": null,
      "metadata": {
        "colab": {
          "base_uri": "https://localhost:8080/",
          "height": 1000
        },
        "id": "cOAub9BH75KF",
        "outputId": "0a772a85-a3cf-4d5a-ffd3-9ab6ba2ae1d5"
      },
      "outputs": [
        {
          "name": "stdout",
          "output_type": "stream",
          "text": [
            "Using device: cuda\n"
          ]
        },
        {
          "name": "stderr",
          "output_type": "stream",
          "text": [
            "100%|██████████| 170M/170M [01:30<00:00, 1.88MB/s]\n"
          ]
        },
        {
          "name": "stdout",
          "output_type": "stream",
          "text": [
            "Starting training...\n",
            "\n",
            "Epoch: 1/200\n"
          ]
        },
        {
          "name": "stderr",
          "output_type": "stream",
          "text": [
            "Training: 100%|██████████| 391/391 [00:59<00:00,  6.53it/s, Loss=2.113, Acc=21.74%]\n",
            "Testing: 100%|██████████| 79/79 [00:03<00:00, 20.11it/s, Loss=1.931, Acc=29.65%]\n"
          ]
        },
        {
          "name": "stdout",
          "output_type": "stream",
          "text": [
            "Train Loss: 2.1125, Train Acc: 21.74%\n",
            "Test Loss: 1.9310, Test Acc: 29.65%\n",
            "Best Test Acc: 29.65%\n",
            "\n",
            "Epoch: 2/200\n"
          ]
        },
        {
          "name": "stderr",
          "output_type": "stream",
          "text": [
            "Training: 100%|██████████| 391/391 [00:59<00:00,  6.55it/s, Loss=2.003, Acc=27.77%]\n",
            "Testing: 100%|██████████| 79/79 [00:04<00:00, 19.75it/s, Loss=1.833, Acc=36.01%]\n"
          ]
        },
        {
          "name": "stdout",
          "output_type": "stream",
          "text": [
            "Train Loss: 2.0033, Train Acc: 27.77%\n",
            "Test Loss: 1.8332, Test Acc: 36.01%\n",
            "Best Test Acc: 36.01%\n",
            "\n",
            "Epoch: 3/200\n"
          ]
        },
        {
          "name": "stderr",
          "output_type": "stream",
          "text": [
            "Training: 100%|██████████| 391/391 [01:00<00:00,  6.49it/s, Loss=1.939, Acc=31.74%]\n",
            "Testing: 100%|██████████| 79/79 [00:03<00:00, 19.78it/s, Loss=1.775, Acc=39.34%]\n"
          ]
        },
        {
          "name": "stdout",
          "output_type": "stream",
          "text": [
            "Train Loss: 1.9394, Train Acc: 31.74%\n",
            "Test Loss: 1.7753, Test Acc: 39.34%\n",
            "Best Test Acc: 39.34%\n",
            "\n",
            "Epoch: 4/200\n"
          ]
        },
        {
          "name": "stderr",
          "output_type": "stream",
          "text": [
            "Training: 100%|██████████| 391/391 [01:00<00:00,  6.50it/s, Loss=1.894, Acc=34.15%]\n",
            "Testing: 100%|██████████| 79/79 [00:03<00:00, 19.81it/s, Loss=1.709, Acc=42.74%]\n"
          ]
        },
        {
          "name": "stdout",
          "output_type": "stream",
          "text": [
            "Train Loss: 1.8945, Train Acc: 34.15%\n",
            "Test Loss: 1.7089, Test Acc: 42.74%\n",
            "Best Test Acc: 42.74%\n",
            "\n",
            "Epoch: 5/200\n"
          ]
        },
        {
          "name": "stderr",
          "output_type": "stream",
          "text": [
            "Training: 100%|██████████| 391/391 [01:00<00:00,  6.49it/s, Loss=1.847, Acc=36.62%]\n",
            "Testing: 100%|██████████| 79/79 [00:03<00:00, 19.86it/s, Loss=1.697, Acc=42.70%]\n"
          ]
        },
        {
          "name": "stdout",
          "output_type": "stream",
          "text": [
            "Train Loss: 1.8468, Train Acc: 36.62%\n",
            "Test Loss: 1.6974, Test Acc: 42.70%\n",
            "Best Test Acc: 42.74%\n",
            "\n",
            "Epoch: 6/200\n"
          ]
        },
        {
          "name": "stderr",
          "output_type": "stream",
          "text": [
            "Training: 100%|██████████| 391/391 [01:00<00:00,  6.48it/s, Loss=1.819, Acc=38.17%]\n",
            "Testing: 100%|██████████| 79/79 [00:04<00:00, 19.62it/s, Loss=1.617, Acc=47.22%]\n"
          ]
        },
        {
          "name": "stdout",
          "output_type": "stream",
          "text": [
            "Train Loss: 1.8187, Train Acc: 38.17%\n",
            "Test Loss: 1.6165, Test Acc: 47.22%\n",
            "Best Test Acc: 47.22%\n",
            "\n",
            "Epoch: 7/200\n"
          ]
        },
        {
          "name": "stderr",
          "output_type": "stream",
          "text": [
            "Training: 100%|██████████| 391/391 [01:00<00:00,  6.48it/s, Loss=1.790, Acc=39.70%]\n",
            "Testing: 100%|██████████| 79/79 [00:03<00:00, 19.80it/s, Loss=1.596, Acc=48.58%]\n"
          ]
        },
        {
          "name": "stdout",
          "output_type": "stream",
          "text": [
            "Train Loss: 1.7896, Train Acc: 39.70%\n",
            "Test Loss: 1.5961, Test Acc: 48.58%\n",
            "Best Test Acc: 48.58%\n",
            "\n",
            "Epoch: 8/200\n"
          ]
        },
        {
          "name": "stderr",
          "output_type": "stream",
          "text": [
            "Training: 100%|██████████| 391/391 [01:00<00:00,  6.47it/s, Loss=1.776, Acc=40.64%]\n",
            "Testing: 100%|██████████| 79/79 [00:03<00:00, 19.81it/s, Loss=1.584, Acc=49.43%]\n"
          ]
        },
        {
          "name": "stdout",
          "output_type": "stream",
          "text": [
            "Train Loss: 1.7756, Train Acc: 40.64%\n",
            "Test Loss: 1.5839, Test Acc: 49.43%\n",
            "Best Test Acc: 49.43%\n",
            "\n",
            "Epoch: 9/200\n"
          ]
        },
        {
          "name": "stderr",
          "output_type": "stream",
          "text": [
            "Training: 100%|██████████| 391/391 [01:00<00:00,  6.46it/s, Loss=1.752, Acc=41.72%]\n",
            "Testing: 100%|██████████| 79/79 [00:04<00:00, 19.73it/s, Loss=1.541, Acc=51.21%]\n"
          ]
        },
        {
          "name": "stdout",
          "output_type": "stream",
          "text": [
            "Train Loss: 1.7523, Train Acc: 41.72%\n",
            "Test Loss: 1.5414, Test Acc: 51.21%\n",
            "Best Test Acc: 51.21%\n",
            "\n",
            "Epoch: 10/200\n"
          ]
        },
        {
          "name": "stderr",
          "output_type": "stream",
          "text": [
            "Training: 100%|██████████| 391/391 [01:00<00:00,  6.46it/s, Loss=1.741, Acc=41.99%]\n",
            "Testing: 100%|██████████| 79/79 [00:04<00:00, 19.64it/s, Loss=1.533, Acc=51.76%]\n"
          ]
        },
        {
          "name": "stdout",
          "output_type": "stream",
          "text": [
            "Train Loss: 1.7414, Train Acc: 41.99%\n",
            "Test Loss: 1.5330, Test Acc: 51.76%\n",
            "Best Test Acc: 51.76%\n",
            "\n",
            "Epoch: 11/200\n"
          ]
        },
        {
          "name": "stderr",
          "output_type": "stream",
          "text": [
            "Training: 100%|██████████| 391/391 [01:00<00:00,  6.46it/s, Loss=1.724, Acc=43.01%]\n",
            "Testing: 100%|██████████| 79/79 [00:04<00:00, 19.73it/s, Loss=1.519, Acc=52.65%]\n"
          ]
        },
        {
          "name": "stdout",
          "output_type": "stream",
          "text": [
            "Train Loss: 1.7236, Train Acc: 43.01%\n",
            "Test Loss: 1.5195, Test Acc: 52.65%\n",
            "Best Test Acc: 52.65%\n",
            "\n",
            "Epoch: 12/200\n"
          ]
        },
        {
          "name": "stderr",
          "output_type": "stream",
          "text": [
            "Training: 100%|██████████| 391/391 [01:00<00:00,  6.45it/s, Loss=1.705, Acc=43.86%]\n",
            "Testing: 100%|██████████| 79/79 [00:04<00:00, 19.69it/s, Loss=1.495, Acc=53.21%]\n"
          ]
        },
        {
          "name": "stdout",
          "output_type": "stream",
          "text": [
            "Train Loss: 1.7050, Train Acc: 43.86%\n",
            "Test Loss: 1.4947, Test Acc: 53.21%\n",
            "Best Test Acc: 53.21%\n",
            "\n",
            "Epoch: 13/200\n"
          ]
        },
        {
          "name": "stderr",
          "output_type": "stream",
          "text": [
            "Training: 100%|██████████| 391/391 [01:00<00:00,  6.47it/s, Loss=1.693, Acc=44.51%]\n",
            "Testing: 100%|██████████| 79/79 [00:03<00:00, 19.77it/s, Loss=1.459, Acc=55.03%]\n"
          ]
        },
        {
          "name": "stdout",
          "output_type": "stream",
          "text": [
            "Train Loss: 1.6925, Train Acc: 44.51%\n",
            "Test Loss: 1.4590, Test Acc: 55.03%\n",
            "Best Test Acc: 55.03%\n",
            "\n",
            "Epoch: 14/200\n"
          ]
        },
        {
          "name": "stderr",
          "output_type": "stream",
          "text": [
            "Training: 100%|██████████| 391/391 [01:00<00:00,  6.44it/s, Loss=1.689, Acc=44.94%]\n",
            "Testing: 100%|██████████| 79/79 [00:04<00:00, 19.72it/s, Loss=1.478, Acc=54.95%]\n"
          ]
        },
        {
          "name": "stdout",
          "output_type": "stream",
          "text": [
            "Train Loss: 1.6891, Train Acc: 44.94%\n",
            "Test Loss: 1.4781, Test Acc: 54.95%\n",
            "Best Test Acc: 55.03%\n",
            "\n",
            "Epoch: 15/200\n"
          ]
        },
        {
          "name": "stderr",
          "output_type": "stream",
          "text": [
            "Training: 100%|██████████| 391/391 [01:00<00:00,  6.47it/s, Loss=1.677, Acc=45.27%]\n",
            "Testing: 100%|██████████| 79/79 [00:04<00:00, 19.67it/s, Loss=1.445, Acc=55.90%]\n"
          ]
        },
        {
          "name": "stdout",
          "output_type": "stream",
          "text": [
            "Train Loss: 1.6772, Train Acc: 45.27%\n",
            "Test Loss: 1.4449, Test Acc: 55.90%\n",
            "Best Test Acc: 55.90%\n",
            "\n",
            "Epoch: 16/200\n"
          ]
        },
        {
          "name": "stderr",
          "output_type": "stream",
          "text": [
            "Training: 100%|██████████| 391/391 [01:00<00:00,  6.46it/s, Loss=1.665, Acc=45.84%]\n",
            "Testing: 100%|██████████| 79/79 [00:03<00:00, 19.79it/s, Loss=1.454, Acc=55.25%]\n"
          ]
        },
        {
          "name": "stdout",
          "output_type": "stream",
          "text": [
            "Train Loss: 1.6647, Train Acc: 45.84%\n",
            "Test Loss: 1.4544, Test Acc: 55.25%\n",
            "Best Test Acc: 55.90%\n",
            "\n",
            "Epoch: 17/200\n"
          ]
        },
        {
          "name": "stderr",
          "output_type": "stream",
          "text": [
            "Training: 100%|██████████| 391/391 [01:00<00:00,  6.47it/s, Loss=1.659, Acc=46.04%]\n",
            "Testing: 100%|██████████| 79/79 [00:03<00:00, 19.96it/s, Loss=1.488, Acc=53.91%]\n"
          ]
        },
        {
          "name": "stdout",
          "output_type": "stream",
          "text": [
            "Train Loss: 1.6590, Train Acc: 46.04%\n",
            "Test Loss: 1.4878, Test Acc: 53.91%\n",
            "Best Test Acc: 55.90%\n",
            "\n",
            "Epoch: 18/200\n"
          ]
        },
        {
          "name": "stderr",
          "output_type": "stream",
          "text": [
            "Training: 100%|██████████| 391/391 [01:00<00:00,  6.49it/s, Loss=1.644, Acc=47.03%]\n",
            "Testing: 100%|██████████| 79/79 [00:03<00:00, 19.80it/s, Loss=1.441, Acc=55.76%]\n"
          ]
        },
        {
          "name": "stdout",
          "output_type": "stream",
          "text": [
            "Train Loss: 1.6442, Train Acc: 47.03%\n",
            "Test Loss: 1.4414, Test Acc: 55.76%\n",
            "Best Test Acc: 55.90%\n",
            "\n",
            "Epoch: 19/200\n"
          ]
        },
        {
          "name": "stderr",
          "output_type": "stream",
          "text": [
            "Training: 100%|██████████| 391/391 [01:00<00:00,  6.49it/s, Loss=1.636, Acc=47.33%]\n",
            "Testing: 100%|██████████| 79/79 [00:04<00:00, 19.52it/s, Loss=1.440, Acc=56.75%]\n"
          ]
        },
        {
          "name": "stdout",
          "output_type": "stream",
          "text": [
            "Train Loss: 1.6356, Train Acc: 47.33%\n",
            "Test Loss: 1.4403, Test Acc: 56.75%\n",
            "Best Test Acc: 56.75%\n",
            "\n",
            "Epoch: 20/200\n"
          ]
        },
        {
          "name": "stderr",
          "output_type": "stream",
          "text": [
            "Training: 100%|██████████| 391/391 [01:00<00:00,  6.48it/s, Loss=1.624, Acc=48.26%]\n",
            "Testing: 100%|██████████| 79/79 [00:03<00:00, 19.88it/s, Loss=1.447, Acc=55.65%]\n"
          ]
        },
        {
          "name": "stdout",
          "output_type": "stream",
          "text": [
            "Train Loss: 1.6243, Train Acc: 48.26%\n",
            "Test Loss: 1.4469, Test Acc: 55.65%\n",
            "Best Test Acc: 56.75%\n",
            "\n",
            "Epoch: 21/200\n"
          ]
        },
        {
          "name": "stderr",
          "output_type": "stream",
          "text": [
            "Training: 100%|██████████| 391/391 [01:00<00:00,  6.47it/s, Loss=1.609, Acc=48.67%]\n",
            "Testing: 100%|██████████| 79/79 [00:04<00:00, 19.72it/s, Loss=1.421, Acc=57.65%]\n"
          ]
        },
        {
          "name": "stdout",
          "output_type": "stream",
          "text": [
            "Train Loss: 1.6090, Train Acc: 48.67%\n",
            "Test Loss: 1.4214, Test Acc: 57.65%\n",
            "Best Test Acc: 57.65%\n",
            "\n",
            "Epoch: 22/200\n"
          ]
        },
        {
          "name": "stderr",
          "output_type": "stream",
          "text": [
            "Training: 100%|██████████| 391/391 [01:00<00:00,  6.48it/s, Loss=1.602, Acc=48.97%]\n",
            "Testing: 100%|██████████| 79/79 [00:04<00:00, 19.72it/s, Loss=1.384, Acc=58.60%]\n"
          ]
        },
        {
          "name": "stdout",
          "output_type": "stream",
          "text": [
            "Train Loss: 1.6022, Train Acc: 48.97%\n",
            "Test Loss: 1.3836, Test Acc: 58.60%\n",
            "Best Test Acc: 58.60%\n",
            "\n",
            "Epoch: 23/200\n"
          ]
        },
        {
          "name": "stderr",
          "output_type": "stream",
          "text": [
            "Training: 100%|██████████| 391/391 [01:00<00:00,  6.48it/s, Loss=1.598, Acc=49.05%]\n",
            "Testing: 100%|██████████| 79/79 [00:03<00:00, 19.96it/s, Loss=1.389, Acc=58.89%]\n"
          ]
        },
        {
          "name": "stdout",
          "output_type": "stream",
          "text": [
            "Train Loss: 1.5978, Train Acc: 49.05%\n",
            "Test Loss: 1.3892, Test Acc: 58.89%\n",
            "Best Test Acc: 58.89%\n",
            "\n",
            "Epoch: 24/200\n"
          ]
        },
        {
          "name": "stderr",
          "output_type": "stream",
          "text": [
            "Training: 100%|██████████| 391/391 [01:00<00:00,  6.49it/s, Loss=1.588, Acc=49.73%]\n",
            "Testing: 100%|██████████| 79/79 [00:04<00:00, 19.73it/s, Loss=1.366, Acc=59.95%]\n"
          ]
        },
        {
          "name": "stdout",
          "output_type": "stream",
          "text": [
            "Train Loss: 1.5876, Train Acc: 49.73%\n",
            "Test Loss: 1.3662, Test Acc: 59.95%\n",
            "Best Test Acc: 59.95%\n",
            "\n",
            "Epoch: 25/200\n"
          ]
        },
        {
          "name": "stderr",
          "output_type": "stream",
          "text": [
            "Training: 100%|██████████| 391/391 [01:00<00:00,  6.46it/s, Loss=1.575, Acc=50.17%]\n",
            "Testing: 100%|██████████| 79/79 [00:04<00:00, 19.63it/s, Loss=1.360, Acc=60.12%]\n"
          ]
        },
        {
          "name": "stdout",
          "output_type": "stream",
          "text": [
            "Train Loss: 1.5749, Train Acc: 50.17%\n",
            "Test Loss: 1.3605, Test Acc: 60.12%\n",
            "Best Test Acc: 60.12%\n",
            "\n",
            "Epoch: 26/200\n"
          ]
        },
        {
          "name": "stderr",
          "output_type": "stream",
          "text": [
            "Training: 100%|██████████| 391/391 [01:00<00:00,  6.46it/s, Loss=1.569, Acc=50.69%]\n",
            "Testing: 100%|██████████| 79/79 [00:04<00:00, 19.72it/s, Loss=1.366, Acc=59.62%]\n"
          ]
        },
        {
          "name": "stdout",
          "output_type": "stream",
          "text": [
            "Train Loss: 1.5694, Train Acc: 50.69%\n",
            "Test Loss: 1.3657, Test Acc: 59.62%\n",
            "Best Test Acc: 60.12%\n",
            "\n",
            "Epoch: 27/200\n"
          ]
        },
        {
          "name": "stderr",
          "output_type": "stream",
          "text": [
            "Training: 100%|██████████| 391/391 [01:00<00:00,  6.48it/s, Loss=1.563, Acc=50.81%]\n",
            "Testing: 100%|██████████| 79/79 [00:04<00:00, 19.74it/s, Loss=1.349, Acc=61.49%]\n"
          ]
        },
        {
          "name": "stdout",
          "output_type": "stream",
          "text": [
            "Train Loss: 1.5632, Train Acc: 50.81%\n",
            "Test Loss: 1.3491, Test Acc: 61.49%\n",
            "Best Test Acc: 61.49%\n",
            "\n",
            "Epoch: 28/200\n"
          ]
        },
        {
          "name": "stderr",
          "output_type": "stream",
          "text": [
            "Training: 100%|██████████| 391/391 [01:00<00:00,  6.47it/s, Loss=1.548, Acc=51.58%]\n",
            "Testing: 100%|██████████| 79/79 [00:04<00:00, 19.38it/s, Loss=1.345, Acc=60.68%]\n"
          ]
        },
        {
          "name": "stdout",
          "output_type": "stream",
          "text": [
            "Train Loss: 1.5479, Train Acc: 51.58%\n",
            "Test Loss: 1.3448, Test Acc: 60.68%\n",
            "Best Test Acc: 61.49%\n",
            "\n",
            "Epoch: 29/200\n"
          ]
        },
        {
          "name": "stderr",
          "output_type": "stream",
          "text": [
            "Training: 100%|██████████| 391/391 [01:00<00:00,  6.49it/s, Loss=1.544, Acc=51.80%]\n",
            "Testing: 100%|██████████| 79/79 [00:03<00:00, 19.83it/s, Loss=1.338, Acc=61.37%]\n"
          ]
        },
        {
          "name": "stdout",
          "output_type": "stream",
          "text": [
            "Train Loss: 1.5441, Train Acc: 51.80%\n",
            "Test Loss: 1.3377, Test Acc: 61.37%\n",
            "Best Test Acc: 61.49%\n",
            "\n",
            "Epoch: 30/200\n"
          ]
        },
        {
          "name": "stderr",
          "output_type": "stream",
          "text": [
            "Training: 100%|██████████| 391/391 [01:00<00:00,  6.46it/s, Loss=1.542, Acc=52.01%]\n",
            "Testing: 100%|██████████| 79/79 [00:04<00:00, 19.66it/s, Loss=1.323, Acc=62.39%]\n"
          ]
        },
        {
          "name": "stdout",
          "output_type": "stream",
          "text": [
            "Train Loss: 1.5418, Train Acc: 52.01%\n",
            "Test Loss: 1.3232, Test Acc: 62.39%\n",
            "Best Test Acc: 62.39%\n",
            "\n",
            "Epoch: 31/200\n"
          ]
        },
        {
          "name": "stderr",
          "output_type": "stream",
          "text": [
            "Training: 100%|██████████| 391/391 [01:00<00:00,  6.49it/s, Loss=1.530, Acc=52.39%]\n",
            "Testing: 100%|██████████| 79/79 [00:03<00:00, 19.80it/s, Loss=1.308, Acc=62.89%]\n"
          ]
        },
        {
          "name": "stdout",
          "output_type": "stream",
          "text": [
            "Train Loss: 1.5298, Train Acc: 52.39%\n",
            "Test Loss: 1.3083, Test Acc: 62.89%\n",
            "Best Test Acc: 62.89%\n",
            "\n",
            "Epoch: 32/200\n"
          ]
        },
        {
          "name": "stderr",
          "output_type": "stream",
          "text": [
            "Training: 100%|██████████| 391/391 [01:00<00:00,  6.50it/s, Loss=1.532, Acc=52.24%]\n",
            "Testing: 100%|██████████| 79/79 [00:03<00:00, 19.85it/s, Loss=1.296, Acc=63.12%]\n"
          ]
        },
        {
          "name": "stdout",
          "output_type": "stream",
          "text": [
            "Train Loss: 1.5320, Train Acc: 52.24%\n",
            "Test Loss: 1.2962, Test Acc: 63.12%\n",
            "Best Test Acc: 63.12%\n",
            "\n",
            "Epoch: 33/200\n"
          ]
        },
        {
          "name": "stderr",
          "output_type": "stream",
          "text": [
            "Training: 100%|██████████| 391/391 [01:00<00:00,  6.48it/s, Loss=1.516, Acc=53.24%]\n",
            "Testing: 100%|██████████| 79/79 [00:03<00:00, 19.83it/s, Loss=1.313, Acc=62.04%]\n"
          ]
        },
        {
          "name": "stdout",
          "output_type": "stream",
          "text": [
            "Train Loss: 1.5160, Train Acc: 53.24%\n",
            "Test Loss: 1.3130, Test Acc: 62.04%\n",
            "Best Test Acc: 63.12%\n",
            "\n",
            "Epoch: 34/200\n"
          ]
        },
        {
          "name": "stderr",
          "output_type": "stream",
          "text": [
            "Training: 100%|██████████| 391/391 [01:00<00:00,  6.51it/s, Loss=1.509, Acc=53.23%]\n",
            "Testing: 100%|██████████| 79/79 [00:03<00:00, 20.07it/s, Loss=1.305, Acc=62.93%]\n"
          ]
        },
        {
          "name": "stdout",
          "output_type": "stream",
          "text": [
            "Train Loss: 1.5089, Train Acc: 53.23%\n",
            "Test Loss: 1.3052, Test Acc: 62.93%\n",
            "Best Test Acc: 63.12%\n",
            "\n",
            "Epoch: 35/200\n"
          ]
        },
        {
          "name": "stderr",
          "output_type": "stream",
          "text": [
            "Training: 100%|██████████| 391/391 [01:00<00:00,  6.51it/s, Loss=1.506, Acc=53.37%]\n",
            "Testing: 100%|██████████| 79/79 [00:04<00:00, 19.74it/s, Loss=1.278, Acc=64.14%]\n"
          ]
        },
        {
          "name": "stdout",
          "output_type": "stream",
          "text": [
            "Train Loss: 1.5055, Train Acc: 53.37%\n",
            "Test Loss: 1.2783, Test Acc: 64.14%\n",
            "Best Test Acc: 64.14%\n",
            "\n",
            "Epoch: 36/200\n"
          ]
        },
        {
          "name": "stderr",
          "output_type": "stream",
          "text": [
            "Training: 100%|██████████| 391/391 [01:00<00:00,  6.51it/s, Loss=1.494, Acc=53.98%]\n",
            "Testing: 100%|██████████| 79/79 [00:03<00:00, 19.87it/s, Loss=1.287, Acc=63.64%]\n"
          ]
        },
        {
          "name": "stdout",
          "output_type": "stream",
          "text": [
            "Train Loss: 1.4936, Train Acc: 53.98%\n",
            "Test Loss: 1.2870, Test Acc: 63.64%\n",
            "Best Test Acc: 64.14%\n",
            "\n",
            "Epoch: 37/200\n"
          ]
        },
        {
          "name": "stderr",
          "output_type": "stream",
          "text": [
            "Training: 100%|██████████| 391/391 [01:00<00:00,  6.49it/s, Loss=1.481, Acc=54.74%]\n",
            "Testing: 100%|██████████| 79/79 [00:04<00:00, 19.69it/s, Loss=1.315, Acc=62.60%]\n"
          ]
        },
        {
          "name": "stdout",
          "output_type": "stream",
          "text": [
            "Train Loss: 1.4814, Train Acc: 54.74%\n",
            "Test Loss: 1.3146, Test Acc: 62.60%\n",
            "Best Test Acc: 64.14%\n",
            "\n",
            "Epoch: 38/200\n"
          ]
        },
        {
          "name": "stderr",
          "output_type": "stream",
          "text": [
            "Training: 100%|██████████| 391/391 [01:00<00:00,  6.50it/s, Loss=1.477, Acc=54.76%]\n",
            "Testing: 100%|██████████| 79/79 [00:03<00:00, 19.88it/s, Loss=1.269, Acc=64.46%]\n"
          ]
        },
        {
          "name": "stdout",
          "output_type": "stream",
          "text": [
            "Train Loss: 1.4768, Train Acc: 54.76%\n",
            "Test Loss: 1.2686, Test Acc: 64.46%\n",
            "Best Test Acc: 64.46%\n",
            "\n",
            "Epoch: 39/200\n"
          ]
        },
        {
          "name": "stderr",
          "output_type": "stream",
          "text": [
            "Training: 100%|██████████| 391/391 [01:00<00:00,  6.51it/s, Loss=1.470, Acc=55.20%]\n",
            "Testing: 100%|██████████| 79/79 [00:03<00:00, 19.95it/s, Loss=1.254, Acc=65.32%]\n"
          ]
        },
        {
          "name": "stdout",
          "output_type": "stream",
          "text": [
            "Train Loss: 1.4695, Train Acc: 55.20%\n",
            "Test Loss: 1.2538, Test Acc: 65.32%\n",
            "Best Test Acc: 65.32%\n",
            "\n",
            "Epoch: 40/200\n"
          ]
        },
        {
          "name": "stderr",
          "output_type": "stream",
          "text": [
            "Training: 100%|██████████| 391/391 [01:00<00:00,  6.50it/s, Loss=1.464, Acc=55.55%]\n",
            "Testing: 100%|██████████| 79/79 [00:03<00:00, 19.80it/s, Loss=1.264, Acc=64.14%]\n"
          ]
        },
        {
          "name": "stdout",
          "output_type": "stream",
          "text": [
            "Train Loss: 1.4644, Train Acc: 55.55%\n",
            "Test Loss: 1.2642, Test Acc: 64.14%\n",
            "Best Test Acc: 65.32%\n",
            "\n",
            "Epoch: 41/200\n"
          ]
        },
        {
          "name": "stderr",
          "output_type": "stream",
          "text": [
            "Training: 100%|██████████| 391/391 [01:00<00:00,  6.51it/s, Loss=1.460, Acc=55.78%]\n",
            "Testing: 100%|██████████| 79/79 [00:03<00:00, 19.87it/s, Loss=1.218, Acc=67.02%]\n"
          ]
        },
        {
          "name": "stdout",
          "output_type": "stream",
          "text": [
            "Train Loss: 1.4599, Train Acc: 55.78%\n",
            "Test Loss: 1.2184, Test Acc: 67.02%\n",
            "Best Test Acc: 67.02%\n",
            "\n",
            "Epoch: 42/200\n"
          ]
        },
        {
          "name": "stderr",
          "output_type": "stream",
          "text": [
            "Training: 100%|██████████| 391/391 [01:00<00:00,  6.50it/s, Loss=1.450, Acc=56.43%]\n",
            "Testing: 100%|██████████| 79/79 [00:04<00:00, 19.31it/s, Loss=1.261, Acc=64.91%]\n"
          ]
        },
        {
          "name": "stdout",
          "output_type": "stream",
          "text": [
            "Train Loss: 1.4502, Train Acc: 56.43%\n",
            "Test Loss: 1.2606, Test Acc: 64.91%\n",
            "Best Test Acc: 67.02%\n",
            "\n",
            "Epoch: 43/200\n"
          ]
        },
        {
          "name": "stderr",
          "output_type": "stream",
          "text": [
            "Training: 100%|██████████| 391/391 [01:00<00:00,  6.44it/s, Loss=1.437, Acc=56.82%]\n",
            "Testing: 100%|██████████| 79/79 [00:04<00:00, 17.97it/s, Loss=1.237, Acc=65.93%]\n"
          ]
        },
        {
          "name": "stdout",
          "output_type": "stream",
          "text": [
            "Train Loss: 1.4373, Train Acc: 56.82%\n",
            "Test Loss: 1.2365, Test Acc: 65.93%\n",
            "Best Test Acc: 67.02%\n",
            "\n",
            "Epoch: 44/200\n"
          ]
        },
        {
          "name": "stderr",
          "output_type": "stream",
          "text": [
            "Training: 100%|██████████| 391/391 [01:00<00:00,  6.46it/s, Loss=1.434, Acc=56.87%]\n",
            "Testing: 100%|██████████| 79/79 [00:04<00:00, 17.98it/s, Loss=1.263, Acc=64.45%]\n"
          ]
        },
        {
          "name": "stdout",
          "output_type": "stream",
          "text": [
            "Train Loss: 1.4338, Train Acc: 56.87%\n",
            "Test Loss: 1.2633, Test Acc: 64.45%\n",
            "Best Test Acc: 67.02%\n",
            "\n",
            "Epoch: 45/200\n"
          ]
        },
        {
          "name": "stderr",
          "output_type": "stream",
          "text": [
            "Training: 100%|██████████| 391/391 [01:00<00:00,  6.44it/s, Loss=1.432, Acc=57.16%]\n",
            "Testing: 100%|██████████| 79/79 [00:04<00:00, 19.02it/s, Loss=1.220, Acc=66.86%]\n"
          ]
        },
        {
          "name": "stdout",
          "output_type": "stream",
          "text": [
            "Train Loss: 1.4317, Train Acc: 57.16%\n",
            "Test Loss: 1.2199, Test Acc: 66.86%\n",
            "Best Test Acc: 67.02%\n",
            "\n",
            "Epoch: 46/200\n"
          ]
        },
        {
          "name": "stderr",
          "output_type": "stream",
          "text": [
            "Training: 100%|██████████| 391/391 [01:00<00:00,  6.46it/s, Loss=1.419, Acc=57.59%]\n",
            "Testing: 100%|██████████| 79/79 [00:04<00:00, 19.48it/s, Loss=1.201, Acc=67.83%]\n"
          ]
        },
        {
          "name": "stdout",
          "output_type": "stream",
          "text": [
            "Train Loss: 1.4189, Train Acc: 57.59%\n",
            "Test Loss: 1.2014, Test Acc: 67.83%\n",
            "Best Test Acc: 67.83%\n",
            "\n",
            "Epoch: 47/200\n"
          ]
        },
        {
          "name": "stderr",
          "output_type": "stream",
          "text": [
            "Training: 100%|██████████| 391/391 [01:00<00:00,  6.47it/s, Loss=1.419, Acc=57.93%]\n",
            "Testing: 100%|██████████| 79/79 [00:04<00:00, 19.65it/s, Loss=1.220, Acc=66.80%]\n"
          ]
        },
        {
          "name": "stdout",
          "output_type": "stream",
          "text": [
            "Train Loss: 1.4188, Train Acc: 57.93%\n",
            "Test Loss: 1.2198, Test Acc: 66.80%\n",
            "Best Test Acc: 67.83%\n",
            "\n",
            "Epoch: 48/200\n"
          ]
        },
        {
          "name": "stderr",
          "output_type": "stream",
          "text": [
            "Training: 100%|██████████| 391/391 [01:00<00:00,  6.47it/s, Loss=1.409, Acc=58.36%]\n",
            "Testing: 100%|██████████| 79/79 [00:04<00:00, 19.65it/s, Loss=1.190, Acc=68.05%]\n"
          ]
        },
        {
          "name": "stdout",
          "output_type": "stream",
          "text": [
            "Train Loss: 1.4091, Train Acc: 58.36%\n",
            "Test Loss: 1.1901, Test Acc: 68.05%\n",
            "Best Test Acc: 68.05%\n",
            "\n",
            "Epoch: 49/200\n"
          ]
        },
        {
          "name": "stderr",
          "output_type": "stream",
          "text": [
            "Training: 100%|██████████| 391/391 [01:00<00:00,  6.47it/s, Loss=1.401, Acc=58.67%]\n",
            "Testing: 100%|██████████| 79/79 [00:04<00:00, 19.65it/s, Loss=1.212, Acc=67.24%]\n"
          ]
        },
        {
          "name": "stdout",
          "output_type": "stream",
          "text": [
            "Train Loss: 1.4012, Train Acc: 58.67%\n",
            "Test Loss: 1.2122, Test Acc: 67.24%\n",
            "Best Test Acc: 68.05%\n",
            "\n",
            "Epoch: 50/200\n"
          ]
        },
        {
          "name": "stderr",
          "output_type": "stream",
          "text": [
            "Training: 100%|██████████| 391/391 [01:00<00:00,  6.48it/s, Loss=1.399, Acc=58.60%]\n",
            "Testing: 100%|██████████| 79/79 [00:04<00:00, 19.48it/s, Loss=1.174, Acc=68.84%]\n"
          ]
        },
        {
          "name": "stdout",
          "output_type": "stream",
          "text": [
            "Train Loss: 1.3989, Train Acc: 58.60%\n",
            "Test Loss: 1.1735, Test Acc: 68.84%\n",
            "Best Test Acc: 68.84%\n",
            "\n",
            "Epoch: 51/200\n"
          ]
        },
        {
          "name": "stderr",
          "output_type": "stream",
          "text": [
            "Training: 100%|██████████| 391/391 [01:00<00:00,  6.46it/s, Loss=1.386, Acc=59.23%]\n",
            "Testing: 100%|██████████| 79/79 [00:04<00:00, 18.26it/s, Loss=1.185, Acc=68.46%]\n"
          ]
        },
        {
          "name": "stdout",
          "output_type": "stream",
          "text": [
            "Train Loss: 1.3862, Train Acc: 59.23%\n",
            "Test Loss: 1.1850, Test Acc: 68.46%\n",
            "Best Test Acc: 68.84%\n",
            "\n",
            "Epoch: 52/200\n"
          ]
        },
        {
          "name": "stderr",
          "output_type": "stream",
          "text": [
            "Training: 100%|██████████| 391/391 [01:00<00:00,  6.42it/s, Loss=1.379, Acc=59.61%]\n",
            "Testing: 100%|██████████| 79/79 [00:04<00:00, 17.65it/s, Loss=1.192, Acc=67.73%]\n"
          ]
        },
        {
          "name": "stdout",
          "output_type": "stream",
          "text": [
            "Train Loss: 1.3785, Train Acc: 59.61%\n",
            "Test Loss: 1.1921, Test Acc: 67.73%\n",
            "Best Test Acc: 68.84%\n",
            "\n",
            "Epoch: 53/200\n"
          ]
        },
        {
          "name": "stderr",
          "output_type": "stream",
          "text": [
            "Training: 100%|██████████| 391/391 [01:00<00:00,  6.42it/s, Loss=1.373, Acc=59.81%]\n",
            "Testing: 100%|██████████| 79/79 [00:04<00:00, 17.74it/s, Loss=1.163, Acc=69.61%]\n"
          ]
        },
        {
          "name": "stdout",
          "output_type": "stream",
          "text": [
            "Train Loss: 1.3726, Train Acc: 59.81%\n",
            "Test Loss: 1.1635, Test Acc: 69.61%\n",
            "Best Test Acc: 69.61%\n",
            "\n",
            "Epoch: 54/200\n"
          ]
        },
        {
          "name": "stderr",
          "output_type": "stream",
          "text": [
            "Training: 100%|██████████| 391/391 [01:00<00:00,  6.41it/s, Loss=1.363, Acc=60.43%]\n",
            "Testing: 100%|██████████| 79/79 [00:04<00:00, 19.40it/s, Loss=1.160, Acc=69.76%]\n"
          ]
        },
        {
          "name": "stdout",
          "output_type": "stream",
          "text": [
            "Train Loss: 1.3629, Train Acc: 60.43%\n",
            "Test Loss: 1.1602, Test Acc: 69.76%\n",
            "Best Test Acc: 69.76%\n",
            "\n",
            "Epoch: 55/200\n"
          ]
        },
        {
          "name": "stderr",
          "output_type": "stream",
          "text": [
            "Training: 100%|██████████| 391/391 [01:01<00:00,  6.39it/s, Loss=1.357, Acc=60.84%]\n",
            "Testing: 100%|██████████| 79/79 [00:04<00:00, 19.33it/s, Loss=1.142, Acc=70.36%]\n"
          ]
        },
        {
          "name": "stdout",
          "output_type": "stream",
          "text": [
            "Train Loss: 1.3569, Train Acc: 60.84%\n",
            "Test Loss: 1.1425, Test Acc: 70.36%\n",
            "Best Test Acc: 70.36%\n",
            "\n",
            "Epoch: 56/200\n"
          ]
        },
        {
          "name": "stderr",
          "output_type": "stream",
          "text": [
            "Training: 100%|██████████| 391/391 [01:00<00:00,  6.43it/s, Loss=1.353, Acc=61.18%]\n",
            "Testing: 100%|██████████| 79/79 [00:04<00:00, 19.30it/s, Loss=1.161, Acc=70.12%]\n"
          ]
        },
        {
          "name": "stdout",
          "output_type": "stream",
          "text": [
            "Train Loss: 1.3527, Train Acc: 61.18%\n",
            "Test Loss: 1.1612, Test Acc: 70.12%\n",
            "Best Test Acc: 70.36%\n",
            "\n",
            "Epoch: 57/200\n"
          ]
        },
        {
          "name": "stderr",
          "output_type": "stream",
          "text": [
            "Training: 100%|██████████| 391/391 [01:00<00:00,  6.43it/s, Loss=1.350, Acc=60.82%]\n",
            "Testing: 100%|██████████| 79/79 [00:04<00:00, 19.23it/s, Loss=1.135, Acc=70.78%]\n"
          ]
        },
        {
          "name": "stdout",
          "output_type": "stream",
          "text": [
            "Train Loss: 1.3505, Train Acc: 60.82%\n",
            "Test Loss: 1.1350, Test Acc: 70.78%\n",
            "Best Test Acc: 70.78%\n",
            "\n",
            "Epoch: 58/200\n"
          ]
        },
        {
          "name": "stderr",
          "output_type": "stream",
          "text": [
            "Training: 100%|██████████| 391/391 [01:01<00:00,  6.41it/s, Loss=1.343, Acc=61.31%]\n",
            "Testing: 100%|██████████| 79/79 [00:04<00:00, 19.08it/s, Loss=1.124, Acc=71.23%]\n"
          ]
        },
        {
          "name": "stdout",
          "output_type": "stream",
          "text": [
            "Train Loss: 1.3427, Train Acc: 61.31%\n",
            "Test Loss: 1.1240, Test Acc: 71.23%\n",
            "Best Test Acc: 71.23%\n",
            "\n",
            "Epoch: 59/200\n"
          ]
        },
        {
          "name": "stderr",
          "output_type": "stream",
          "text": [
            "Training: 100%|██████████| 391/391 [01:01<00:00,  6.39it/s, Loss=1.335, Acc=61.62%]\n",
            "Testing: 100%|██████████| 79/79 [00:04<00:00, 17.65it/s, Loss=1.145, Acc=70.67%]\n"
          ]
        },
        {
          "name": "stdout",
          "output_type": "stream",
          "text": [
            "Train Loss: 1.3349, Train Acc: 61.62%\n",
            "Test Loss: 1.1445, Test Acc: 70.67%\n",
            "Best Test Acc: 71.23%\n",
            "\n",
            "Epoch: 60/200\n"
          ]
        },
        {
          "name": "stderr",
          "output_type": "stream",
          "text": [
            "Training: 100%|██████████| 391/391 [01:00<00:00,  6.44it/s, Loss=1.332, Acc=61.82%]\n",
            "Testing: 100%|██████████| 79/79 [00:04<00:00, 17.37it/s, Loss=1.121, Acc=71.62%]\n"
          ]
        },
        {
          "name": "stdout",
          "output_type": "stream",
          "text": [
            "Train Loss: 1.3320, Train Acc: 61.82%\n",
            "Test Loss: 1.1209, Test Acc: 71.62%\n",
            "Best Test Acc: 71.62%\n",
            "\n",
            "Epoch: 61/200\n"
          ]
        },
        {
          "name": "stderr",
          "output_type": "stream",
          "text": [
            "Training: 100%|██████████| 391/391 [01:00<00:00,  6.42it/s, Loss=1.327, Acc=62.14%]\n",
            "Testing: 100%|██████████| 79/79 [00:04<00:00, 18.75it/s, Loss=1.131, Acc=70.96%]\n"
          ]
        },
        {
          "name": "stdout",
          "output_type": "stream",
          "text": [
            "Train Loss: 1.3271, Train Acc: 62.14%\n",
            "Test Loss: 1.1315, Test Acc: 70.96%\n",
            "Best Test Acc: 71.62%\n",
            "\n",
            "Epoch: 62/200\n"
          ]
        },
        {
          "name": "stderr",
          "output_type": "stream",
          "text": [
            "Training: 100%|██████████| 391/391 [01:01<00:00,  6.40it/s, Loss=1.315, Acc=62.51%]\n",
            "Testing: 100%|██████████| 79/79 [00:04<00:00, 19.21it/s, Loss=1.106, Acc=72.21%]\n"
          ]
        },
        {
          "name": "stdout",
          "output_type": "stream",
          "text": [
            "Train Loss: 1.3147, Train Acc: 62.51%\n",
            "Test Loss: 1.1060, Test Acc: 72.21%\n",
            "Best Test Acc: 72.21%\n",
            "\n",
            "Epoch: 63/200\n"
          ]
        },
        {
          "name": "stderr",
          "output_type": "stream",
          "text": [
            "Training: 100%|██████████| 391/391 [01:01<00:00,  6.40it/s, Loss=1.314, Acc=62.54%]\n",
            "Testing: 100%|██████████| 79/79 [00:04<00:00, 19.32it/s, Loss=1.099, Acc=72.75%]\n"
          ]
        },
        {
          "name": "stdout",
          "output_type": "stream",
          "text": [
            "Train Loss: 1.3141, Train Acc: 62.54%\n",
            "Test Loss: 1.0993, Test Acc: 72.75%\n",
            "Best Test Acc: 72.75%\n",
            "\n",
            "Epoch: 64/200\n"
          ]
        },
        {
          "name": "stderr",
          "output_type": "stream",
          "text": [
            "Training: 100%|██████████| 391/391 [01:01<00:00,  6.40it/s, Loss=1.305, Acc=63.15%]\n",
            "Testing: 100%|██████████| 79/79 [00:04<00:00, 19.01it/s, Loss=1.123, Acc=71.56%]\n"
          ]
        },
        {
          "name": "stdout",
          "output_type": "stream",
          "text": [
            "Train Loss: 1.3049, Train Acc: 63.15%\n",
            "Test Loss: 1.1228, Test Acc: 71.56%\n",
            "Best Test Acc: 72.75%\n",
            "\n",
            "Epoch: 65/200\n"
          ]
        },
        {
          "name": "stderr",
          "output_type": "stream",
          "text": [
            "Training: 100%|██████████| 391/391 [01:00<00:00,  6.44it/s, Loss=1.302, Acc=63.38%]\n",
            "Testing: 100%|██████████| 79/79 [00:04<00:00, 19.66it/s, Loss=1.125, Acc=71.21%]\n"
          ]
        },
        {
          "name": "stdout",
          "output_type": "stream",
          "text": [
            "Train Loss: 1.3017, Train Acc: 63.38%\n",
            "Test Loss: 1.1253, Test Acc: 71.21%\n",
            "Best Test Acc: 72.75%\n",
            "\n",
            "Epoch: 66/200\n"
          ]
        },
        {
          "name": "stderr",
          "output_type": "stream",
          "text": [
            "Training: 100%|██████████| 391/391 [01:00<00:00,  6.47it/s, Loss=1.293, Acc=63.59%]\n",
            "Testing: 100%|██████████| 79/79 [00:04<00:00, 18.57it/s, Loss=1.106, Acc=72.56%]\n"
          ]
        },
        {
          "name": "stdout",
          "output_type": "stream",
          "text": [
            "Train Loss: 1.2929, Train Acc: 63.59%\n",
            "Test Loss: 1.1063, Test Acc: 72.56%\n",
            "Best Test Acc: 72.75%\n",
            "\n",
            "Epoch: 67/200\n"
          ]
        },
        {
          "name": "stderr",
          "output_type": "stream",
          "text": [
            "Training: 100%|██████████| 391/391 [01:00<00:00,  6.50it/s, Loss=1.291, Acc=64.03%]\n",
            "Testing: 100%|██████████| 79/79 [00:04<00:00, 18.07it/s, Loss=1.089, Acc=73.25%]\n"
          ]
        },
        {
          "name": "stdout",
          "output_type": "stream",
          "text": [
            "Train Loss: 1.2906, Train Acc: 64.03%\n",
            "Test Loss: 1.0892, Test Acc: 73.25%\n",
            "Best Test Acc: 73.25%\n",
            "\n",
            "Epoch: 68/200\n"
          ]
        },
        {
          "name": "stderr",
          "output_type": "stream",
          "text": [
            "Training: 100%|██████████| 391/391 [01:00<00:00,  6.51it/s, Loss=1.280, Acc=64.26%]\n",
            "Testing: 100%|██████████| 79/79 [00:04<00:00, 18.52it/s, Loss=1.096, Acc=73.40%]\n"
          ]
        },
        {
          "name": "stdout",
          "output_type": "stream",
          "text": [
            "Train Loss: 1.2796, Train Acc: 64.26%\n",
            "Test Loss: 1.0955, Test Acc: 73.40%\n",
            "Best Test Acc: 73.40%\n",
            "\n",
            "Epoch: 69/200\n"
          ]
        },
        {
          "name": "stderr",
          "output_type": "stream",
          "text": [
            "Training: 100%|██████████| 391/391 [01:00<00:00,  6.48it/s, Loss=1.281, Acc=64.37%]\n",
            "Testing: 100%|██████████| 79/79 [00:03<00:00, 19.78it/s, Loss=1.094, Acc=72.96%]\n"
          ]
        },
        {
          "name": "stdout",
          "output_type": "stream",
          "text": [
            "Train Loss: 1.2805, Train Acc: 64.37%\n",
            "Test Loss: 1.0937, Test Acc: 72.96%\n",
            "Best Test Acc: 73.40%\n",
            "\n",
            "Epoch: 70/200\n"
          ]
        },
        {
          "name": "stderr",
          "output_type": "stream",
          "text": [
            "Training: 100%|██████████| 391/391 [01:00<00:00,  6.50it/s, Loss=1.271, Acc=64.79%]\n",
            "Testing: 100%|██████████| 79/79 [00:03<00:00, 19.77it/s, Loss=1.091, Acc=73.10%]\n"
          ]
        },
        {
          "name": "stdout",
          "output_type": "stream",
          "text": [
            "Train Loss: 1.2710, Train Acc: 64.79%\n",
            "Test Loss: 1.0911, Test Acc: 73.10%\n",
            "Best Test Acc: 73.40%\n",
            "\n",
            "Epoch: 71/200\n"
          ]
        },
        {
          "name": "stderr",
          "output_type": "stream",
          "text": [
            "Training: 100%|██████████| 391/391 [01:00<00:00,  6.50it/s, Loss=1.262, Acc=65.25%]\n",
            "Testing: 100%|██████████| 79/79 [00:04<00:00, 19.20it/s, Loss=1.085, Acc=73.79%]\n"
          ]
        },
        {
          "name": "stdout",
          "output_type": "stream",
          "text": [
            "Train Loss: 1.2618, Train Acc: 65.25%\n",
            "Test Loss: 1.0850, Test Acc: 73.79%\n",
            "Best Test Acc: 73.79%\n",
            "\n",
            "Epoch: 72/200\n"
          ]
        },
        {
          "name": "stderr",
          "output_type": "stream",
          "text": [
            "Training: 100%|██████████| 391/391 [01:00<00:00,  6.47it/s, Loss=1.257, Acc=65.52%]\n",
            "Testing: 100%|██████████| 79/79 [00:04<00:00, 19.64it/s, Loss=1.083, Acc=73.49%]\n"
          ]
        },
        {
          "name": "stdout",
          "output_type": "stream",
          "text": [
            "Train Loss: 1.2575, Train Acc: 65.52%\n",
            "Test Loss: 1.0835, Test Acc: 73.49%\n",
            "Best Test Acc: 73.79%\n",
            "\n",
            "Epoch: 73/200\n"
          ]
        },
        {
          "name": "stderr",
          "output_type": "stream",
          "text": [
            "Training: 100%|██████████| 391/391 [01:00<00:00,  6.48it/s, Loss=1.252, Acc=65.57%]\n",
            "Testing: 100%|██████████| 79/79 [00:03<00:00, 19.89it/s, Loss=1.100, Acc=72.79%]\n"
          ]
        },
        {
          "name": "stdout",
          "output_type": "stream",
          "text": [
            "Train Loss: 1.2520, Train Acc: 65.57%\n",
            "Test Loss: 1.1005, Test Acc: 72.79%\n",
            "Best Test Acc: 73.79%\n",
            "\n",
            "Epoch: 74/200\n"
          ]
        },
        {
          "name": "stderr",
          "output_type": "stream",
          "text": [
            "Training: 100%|██████████| 391/391 [01:00<00:00,  6.49it/s, Loss=1.244, Acc=65.96%]\n",
            "Testing: 100%|██████████| 79/79 [00:04<00:00, 19.44it/s, Loss=1.070, Acc=74.13%]\n"
          ]
        },
        {
          "name": "stdout",
          "output_type": "stream",
          "text": [
            "Train Loss: 1.2443, Train Acc: 65.96%\n",
            "Test Loss: 1.0698, Test Acc: 74.13%\n",
            "Best Test Acc: 74.13%\n",
            "\n",
            "Epoch: 75/200\n"
          ]
        },
        {
          "name": "stderr",
          "output_type": "stream",
          "text": [
            "Training: 100%|██████████| 391/391 [01:00<00:00,  6.46it/s, Loss=1.239, Acc=66.15%]\n",
            "Testing: 100%|██████████| 79/79 [00:04<00:00, 18.05it/s, Loss=1.063, Acc=74.57%]\n"
          ]
        },
        {
          "name": "stdout",
          "output_type": "stream",
          "text": [
            "Train Loss: 1.2390, Train Acc: 66.15%\n",
            "Test Loss: 1.0629, Test Acc: 74.57%\n",
            "Best Test Acc: 74.57%\n",
            "\n",
            "Epoch: 76/200\n"
          ]
        },
        {
          "name": "stderr",
          "output_type": "stream",
          "text": [
            "Training: 100%|██████████| 391/391 [01:00<00:00,  6.47it/s, Loss=1.236, Acc=66.59%]\n",
            "Testing: 100%|██████████| 79/79 [00:04<00:00, 17.85it/s, Loss=1.058, Acc=75.00%]\n"
          ]
        },
        {
          "name": "stdout",
          "output_type": "stream",
          "text": [
            "Train Loss: 1.2358, Train Acc: 66.59%\n",
            "Test Loss: 1.0579, Test Acc: 75.00%\n",
            "Best Test Acc: 75.00%\n",
            "\n",
            "Epoch: 77/200\n"
          ]
        },
        {
          "name": "stderr",
          "output_type": "stream",
          "text": [
            "Training: 100%|██████████| 391/391 [01:00<00:00,  6.49it/s, Loss=1.234, Acc=66.50%]\n",
            "Testing: 100%|██████████| 79/79 [00:04<00:00, 18.65it/s, Loss=1.037, Acc=75.81%]\n"
          ]
        },
        {
          "name": "stdout",
          "output_type": "stream",
          "text": [
            "Train Loss: 1.2345, Train Acc: 66.50%\n",
            "Test Loss: 1.0374, Test Acc: 75.81%\n",
            "Best Test Acc: 75.81%\n",
            "\n",
            "Epoch: 78/200\n"
          ]
        },
        {
          "name": "stderr",
          "output_type": "stream",
          "text": [
            "Training: 100%|██████████| 391/391 [01:00<00:00,  6.48it/s, Loss=1.219, Acc=67.37%]\n",
            "Testing: 100%|██████████| 79/79 [00:04<00:00, 19.63it/s, Loss=1.026, Acc=76.35%]\n"
          ]
        },
        {
          "name": "stdout",
          "output_type": "stream",
          "text": [
            "Train Loss: 1.2194, Train Acc: 67.37%\n",
            "Test Loss: 1.0259, Test Acc: 76.35%\n",
            "Best Test Acc: 76.35%\n",
            "\n",
            "Epoch: 79/200\n"
          ]
        },
        {
          "name": "stderr",
          "output_type": "stream",
          "text": [
            "Training: 100%|██████████| 391/391 [01:00<00:00,  6.47it/s, Loss=1.214, Acc=67.46%]\n",
            "Testing: 100%|██████████| 79/79 [00:04<00:00, 19.54it/s, Loss=1.031, Acc=76.09%]\n"
          ]
        },
        {
          "name": "stdout",
          "output_type": "stream",
          "text": [
            "Train Loss: 1.2138, Train Acc: 67.46%\n",
            "Test Loss: 1.0308, Test Acc: 76.09%\n",
            "Best Test Acc: 76.35%\n",
            "\n",
            "Epoch: 80/200\n"
          ]
        },
        {
          "name": "stderr",
          "output_type": "stream",
          "text": [
            "Training: 100%|██████████| 391/391 [01:00<00:00,  6.48it/s, Loss=1.207, Acc=67.83%]\n",
            "Testing: 100%|██████████| 79/79 [00:04<00:00, 19.58it/s, Loss=1.047, Acc=75.59%]\n"
          ]
        },
        {
          "name": "stdout",
          "output_type": "stream",
          "text": [
            "Train Loss: 1.2066, Train Acc: 67.83%\n",
            "Test Loss: 1.0472, Test Acc: 75.59%\n",
            "Best Test Acc: 76.35%\n",
            "\n",
            "Epoch: 81/200\n"
          ]
        },
        {
          "name": "stderr",
          "output_type": "stream",
          "text": [
            "Training: 100%|██████████| 391/391 [01:00<00:00,  6.47it/s, Loss=1.200, Acc=68.08%]\n",
            "Testing: 100%|██████████| 79/79 [00:04<00:00, 19.72it/s, Loss=1.027, Acc=76.40%]\n"
          ]
        },
        {
          "name": "stdout",
          "output_type": "stream",
          "text": [
            "Train Loss: 1.2000, Train Acc: 68.08%\n",
            "Test Loss: 1.0268, Test Acc: 76.40%\n",
            "Best Test Acc: 76.40%\n",
            "\n",
            "Epoch: 82/200\n"
          ]
        },
        {
          "name": "stderr",
          "output_type": "stream",
          "text": [
            "Training: 100%|██████████| 391/391 [01:00<00:00,  6.46it/s, Loss=1.199, Acc=68.15%]\n",
            "Testing: 100%|██████████| 79/79 [00:04<00:00, 19.59it/s, Loss=1.023, Acc=76.47%]\n"
          ]
        },
        {
          "name": "stdout",
          "output_type": "stream",
          "text": [
            "Train Loss: 1.1988, Train Acc: 68.15%\n",
            "Test Loss: 1.0233, Test Acc: 76.47%\n",
            "Best Test Acc: 76.47%\n",
            "\n",
            "Epoch: 83/200\n"
          ]
        },
        {
          "name": "stderr",
          "output_type": "stream",
          "text": [
            "Training: 100%|██████████| 391/391 [01:00<00:00,  6.46it/s, Loss=1.188, Acc=68.70%]\n",
            "Testing: 100%|██████████| 79/79 [00:04<00:00, 19.20it/s, Loss=1.028, Acc=76.57%]\n"
          ]
        },
        {
          "name": "stdout",
          "output_type": "stream",
          "text": [
            "Train Loss: 1.1882, Train Acc: 68.70%\n",
            "Test Loss: 1.0278, Test Acc: 76.57%\n",
            "Best Test Acc: 76.57%\n",
            "\n",
            "Epoch: 84/200\n"
          ]
        },
        {
          "name": "stderr",
          "output_type": "stream",
          "text": [
            "Training: 100%|██████████| 391/391 [01:00<00:00,  6.47it/s, Loss=1.190, Acc=68.58%]\n",
            "Testing: 100%|██████████| 79/79 [00:04<00:00, 18.35it/s, Loss=1.033, Acc=76.02%]\n"
          ]
        },
        {
          "name": "stdout",
          "output_type": "stream",
          "text": [
            "Train Loss: 1.1897, Train Acc: 68.58%\n",
            "Test Loss: 1.0328, Test Acc: 76.02%\n",
            "Best Test Acc: 76.57%\n",
            "\n",
            "Epoch: 85/200\n"
          ]
        },
        {
          "name": "stderr",
          "output_type": "stream",
          "text": [
            "Training: 100%|██████████| 391/391 [01:00<00:00,  6.49it/s, Loss=1.180, Acc=68.88%]\n",
            "Testing: 100%|██████████| 79/79 [00:04<00:00, 17.99it/s, Loss=1.005, Acc=77.26%]\n"
          ]
        },
        {
          "name": "stdout",
          "output_type": "stream",
          "text": [
            "Train Loss: 1.1800, Train Acc: 68.88%\n",
            "Test Loss: 1.0050, Test Acc: 77.26%\n",
            "Best Test Acc: 77.26%\n",
            "\n",
            "Epoch: 86/200\n"
          ]
        },
        {
          "name": "stderr",
          "output_type": "stream",
          "text": [
            "Training: 100%|██████████| 391/391 [01:00<00:00,  6.46it/s, Loss=1.175, Acc=69.32%]\n",
            "Testing: 100%|██████████| 79/79 [00:04<00:00, 18.72it/s, Loss=1.008, Acc=76.80%]\n"
          ]
        },
        {
          "name": "stdout",
          "output_type": "stream",
          "text": [
            "Train Loss: 1.1750, Train Acc: 69.32%\n",
            "Test Loss: 1.0077, Test Acc: 76.80%\n",
            "Best Test Acc: 77.26%\n",
            "\n",
            "Epoch: 87/200\n"
          ]
        },
        {
          "name": "stderr",
          "output_type": "stream",
          "text": [
            "Training: 100%|██████████| 391/391 [01:00<00:00,  6.47it/s, Loss=1.166, Acc=69.81%]\n",
            "Testing: 100%|██████████| 79/79 [00:04<00:00, 19.63it/s, Loss=0.993, Acc=77.90%]\n"
          ]
        },
        {
          "name": "stdout",
          "output_type": "stream",
          "text": [
            "Train Loss: 1.1656, Train Acc: 69.81%\n",
            "Test Loss: 0.9926, Test Acc: 77.90%\n",
            "Best Test Acc: 77.90%\n",
            "\n",
            "Epoch: 88/200\n"
          ]
        },
        {
          "name": "stderr",
          "output_type": "stream",
          "text": [
            "Training: 100%|██████████| 391/391 [01:00<00:00,  6.49it/s, Loss=1.163, Acc=69.69%]\n",
            "Testing: 100%|██████████| 79/79 [00:03<00:00, 19.75it/s, Loss=0.990, Acc=77.66%]\n"
          ]
        },
        {
          "name": "stdout",
          "output_type": "stream",
          "text": [
            "Train Loss: 1.1628, Train Acc: 69.69%\n",
            "Test Loss: 0.9896, Test Acc: 77.66%\n",
            "Best Test Acc: 77.90%\n",
            "\n",
            "Epoch: 89/200\n"
          ]
        },
        {
          "name": "stderr",
          "output_type": "stream",
          "text": [
            "Training: 100%|██████████| 391/391 [01:00<00:00,  6.50it/s, Loss=1.160, Acc=69.84%]\n",
            "Testing: 100%|██████████| 79/79 [00:04<00:00, 19.75it/s, Loss=0.991, Acc=78.28%]\n"
          ]
        },
        {
          "name": "stdout",
          "output_type": "stream",
          "text": [
            "Train Loss: 1.1600, Train Acc: 69.84%\n",
            "Test Loss: 0.9913, Test Acc: 78.28%\n",
            "Best Test Acc: 78.28%\n",
            "\n",
            "Epoch: 90/200\n"
          ]
        },
        {
          "name": "stderr",
          "output_type": "stream",
          "text": [
            "Training: 100%|██████████| 391/391 [01:00<00:00,  6.49it/s, Loss=1.152, Acc=70.26%]\n",
            "Testing: 100%|██████████| 79/79 [00:04<00:00, 19.68it/s, Loss=0.992, Acc=77.87%]\n"
          ]
        },
        {
          "name": "stdout",
          "output_type": "stream",
          "text": [
            "Train Loss: 1.1524, Train Acc: 70.26%\n",
            "Test Loss: 0.9916, Test Acc: 77.87%\n",
            "Best Test Acc: 78.28%\n",
            "\n",
            "Epoch: 91/200\n"
          ]
        },
        {
          "name": "stderr",
          "output_type": "stream",
          "text": [
            "Training: 100%|██████████| 391/391 [01:00<00:00,  6.46it/s, Loss=1.141, Acc=70.71%]\n",
            "Testing: 100%|██████████| 79/79 [00:04<00:00, 19.73it/s, Loss=0.996, Acc=77.93%]\n"
          ]
        },
        {
          "name": "stdout",
          "output_type": "stream",
          "text": [
            "Train Loss: 1.1414, Train Acc: 70.71%\n",
            "Test Loss: 0.9959, Test Acc: 77.93%\n",
            "Best Test Acc: 78.28%\n",
            "\n",
            "Epoch: 92/200\n"
          ]
        },
        {
          "name": "stderr",
          "output_type": "stream",
          "text": [
            "Training: 100%|██████████| 391/391 [01:00<00:00,  6.47it/s, Loss=1.138, Acc=70.96%]\n",
            "Testing: 100%|██████████| 79/79 [00:04<00:00, 19.65it/s, Loss=0.981, Acc=78.84%]\n"
          ]
        },
        {
          "name": "stdout",
          "output_type": "stream",
          "text": [
            "Train Loss: 1.1376, Train Acc: 70.96%\n",
            "Test Loss: 0.9814, Test Acc: 78.84%\n",
            "Best Test Acc: 78.84%\n",
            "\n",
            "Epoch: 93/200\n"
          ]
        },
        {
          "name": "stderr",
          "output_type": "stream",
          "text": [
            "Training: 100%|██████████| 391/391 [01:00<00:00,  6.45it/s, Loss=1.134, Acc=71.10%]\n",
            "Testing: 100%|██████████| 79/79 [00:04<00:00, 18.89it/s, Loss=0.987, Acc=78.41%]\n"
          ]
        },
        {
          "name": "stdout",
          "output_type": "stream",
          "text": [
            "Train Loss: 1.1345, Train Acc: 71.10%\n",
            "Test Loss: 0.9874, Test Acc: 78.41%\n",
            "Best Test Acc: 78.84%\n",
            "\n",
            "Epoch: 94/200\n"
          ]
        },
        {
          "name": "stderr",
          "output_type": "stream",
          "text": [
            "Training: 100%|██████████| 391/391 [01:00<00:00,  6.47it/s, Loss=1.131, Acc=71.36%]\n",
            "Testing: 100%|██████████| 79/79 [00:04<00:00, 18.22it/s, Loss=0.978, Acc=78.84%]\n"
          ]
        },
        {
          "name": "stdout",
          "output_type": "stream",
          "text": [
            "Train Loss: 1.1308, Train Acc: 71.36%\n",
            "Test Loss: 0.9779, Test Acc: 78.84%\n",
            "Best Test Acc: 78.84%\n",
            "\n",
            "Epoch: 95/200\n"
          ]
        },
        {
          "name": "stderr",
          "output_type": "stream",
          "text": [
            "Training: 100%|██████████| 391/391 [01:00<00:00,  6.44it/s, Loss=1.126, Acc=71.52%]\n",
            "Testing: 100%|██████████| 79/79 [00:04<00:00, 17.82it/s, Loss=0.972, Acc=79.04%]\n"
          ]
        },
        {
          "name": "stdout",
          "output_type": "stream",
          "text": [
            "Train Loss: 1.1257, Train Acc: 71.52%\n",
            "Test Loss: 0.9721, Test Acc: 79.04%\n",
            "Best Test Acc: 79.04%\n",
            "\n",
            "Epoch: 96/200\n"
          ]
        },
        {
          "name": "stderr",
          "output_type": "stream",
          "text": [
            "Training: 100%|██████████| 391/391 [01:00<00:00,  6.47it/s, Loss=1.116, Acc=71.84%]\n",
            "Testing: 100%|██████████| 79/79 [00:04<00:00, 18.28it/s, Loss=0.967, Acc=79.37%]\n"
          ]
        },
        {
          "name": "stdout",
          "output_type": "stream",
          "text": [
            "Train Loss: 1.1161, Train Acc: 71.84%\n",
            "Test Loss: 0.9669, Test Acc: 79.37%\n",
            "Best Test Acc: 79.37%\n",
            "\n",
            "Epoch: 97/200\n"
          ]
        },
        {
          "name": "stderr",
          "output_type": "stream",
          "text": [
            "Training: 100%|██████████| 391/391 [01:00<00:00,  6.44it/s, Loss=1.115, Acc=72.13%]\n",
            "Testing: 100%|██████████| 79/79 [00:04<00:00, 19.42it/s, Loss=0.980, Acc=78.68%]\n"
          ]
        },
        {
          "name": "stdout",
          "output_type": "stream",
          "text": [
            "Train Loss: 1.1154, Train Acc: 72.13%\n",
            "Test Loss: 0.9804, Test Acc: 78.68%\n",
            "Best Test Acc: 79.37%\n",
            "\n",
            "Epoch: 98/200\n"
          ]
        },
        {
          "name": "stderr",
          "output_type": "stream",
          "text": [
            "Training: 100%|██████████| 391/391 [01:00<00:00,  6.46it/s, Loss=1.112, Acc=72.13%]\n",
            "Testing: 100%|██████████| 79/79 [00:04<00:00, 19.68it/s, Loss=0.961, Acc=79.79%]\n"
          ]
        },
        {
          "name": "stdout",
          "output_type": "stream",
          "text": [
            "Train Loss: 1.1118, Train Acc: 72.13%\n",
            "Test Loss: 0.9614, Test Acc: 79.79%\n",
            "Best Test Acc: 79.79%\n",
            "\n",
            "Epoch: 99/200\n"
          ]
        },
        {
          "name": "stderr",
          "output_type": "stream",
          "text": [
            "Training: 100%|██████████| 391/391 [01:00<00:00,  6.49it/s, Loss=1.100, Acc=72.90%]\n",
            "Testing: 100%|██████████| 79/79 [00:04<00:00, 19.69it/s, Loss=0.955, Acc=80.09%]\n"
          ]
        },
        {
          "name": "stdout",
          "output_type": "stream",
          "text": [
            "Train Loss: 1.0996, Train Acc: 72.90%\n",
            "Test Loss: 0.9545, Test Acc: 80.09%\n",
            "Best Test Acc: 80.09%\n",
            "\n",
            "Epoch: 100/200\n"
          ]
        },
        {
          "name": "stderr",
          "output_type": "stream",
          "text": [
            "Training: 100%|██████████| 391/391 [01:00<00:00,  6.50it/s, Loss=1.102, Acc=72.71%]\n",
            "Testing: 100%|██████████| 79/79 [00:04<00:00, 19.40it/s, Loss=0.966, Acc=79.90%]\n"
          ]
        },
        {
          "name": "stdout",
          "output_type": "stream",
          "text": [
            "Train Loss: 1.1016, Train Acc: 72.71%\n",
            "Test Loss: 0.9663, Test Acc: 79.90%\n",
            "Best Test Acc: 80.09%\n",
            "\n",
            "Epoch: 101/200\n"
          ]
        },
        {
          "name": "stderr",
          "output_type": "stream",
          "text": [
            "Training: 100%|██████████| 391/391 [01:00<00:00,  6.48it/s, Loss=1.093, Acc=72.92%]\n",
            "Testing: 100%|██████████| 79/79 [00:04<00:00, 19.67it/s, Loss=0.970, Acc=79.79%]\n"
          ]
        },
        {
          "name": "stdout",
          "output_type": "stream",
          "text": [
            "Train Loss: 1.0934, Train Acc: 72.92%\n",
            "Test Loss: 0.9702, Test Acc: 79.79%\n",
            "Best Test Acc: 80.09%\n",
            "\n",
            "Epoch: 102/200\n"
          ]
        },
        {
          "name": "stderr",
          "output_type": "stream",
          "text": [
            "Training: 100%|██████████| 391/391 [01:00<00:00,  6.48it/s, Loss=1.089, Acc=73.45%]\n",
            "Testing: 100%|██████████| 79/79 [00:04<00:00, 19.21it/s, Loss=0.969, Acc=79.31%]\n"
          ]
        },
        {
          "name": "stdout",
          "output_type": "stream",
          "text": [
            "Train Loss: 1.0885, Train Acc: 73.45%\n",
            "Test Loss: 0.9694, Test Acc: 79.31%\n",
            "Best Test Acc: 80.09%\n",
            "\n",
            "Epoch: 103/200\n"
          ]
        },
        {
          "name": "stderr",
          "output_type": "stream",
          "text": [
            "Training: 100%|██████████| 391/391 [01:00<00:00,  6.46it/s, Loss=1.082, Acc=73.69%]\n",
            "Testing: 100%|██████████| 79/79 [00:04<00:00, 18.04it/s, Loss=0.961, Acc=79.67%]\n"
          ]
        },
        {
          "name": "stdout",
          "output_type": "stream",
          "text": [
            "Train Loss: 1.0821, Train Acc: 73.69%\n",
            "Test Loss: 0.9614, Test Acc: 79.67%\n",
            "Best Test Acc: 80.09%\n",
            "\n",
            "Epoch: 104/200\n"
          ]
        },
        {
          "name": "stderr",
          "output_type": "stream",
          "text": [
            "Training: 100%|██████████| 391/391 [01:00<00:00,  6.50it/s, Loss=1.077, Acc=73.71%]\n",
            "Testing: 100%|██████████| 79/79 [00:04<00:00, 18.17it/s, Loss=0.948, Acc=80.51%]\n"
          ]
        },
        {
          "name": "stdout",
          "output_type": "stream",
          "text": [
            "Train Loss: 1.0768, Train Acc: 73.71%\n",
            "Test Loss: 0.9479, Test Acc: 80.51%\n",
            "Best Test Acc: 80.51%\n",
            "\n",
            "Epoch: 105/200\n"
          ]
        },
        {
          "name": "stderr",
          "output_type": "stream",
          "text": [
            "Training: 100%|██████████| 391/391 [01:00<00:00,  6.48it/s, Loss=1.069, Acc=74.15%]\n",
            "Testing: 100%|██████████| 79/79 [00:04<00:00, 18.67it/s, Loss=0.964, Acc=79.49%]\n"
          ]
        },
        {
          "name": "stdout",
          "output_type": "stream",
          "text": [
            "Train Loss: 1.0694, Train Acc: 74.15%\n",
            "Test Loss: 0.9641, Test Acc: 79.49%\n",
            "Best Test Acc: 80.51%\n",
            "\n",
            "Epoch: 106/200\n"
          ]
        },
        {
          "name": "stderr",
          "output_type": "stream",
          "text": [
            "Training: 100%|██████████| 391/391 [01:00<00:00,  6.48it/s, Loss=1.067, Acc=74.28%]\n",
            "Testing: 100%|██████████| 79/79 [00:04<00:00, 19.60it/s, Loss=0.965, Acc=79.45%]\n"
          ]
        },
        {
          "name": "stdout",
          "output_type": "stream",
          "text": [
            "Train Loss: 1.0674, Train Acc: 74.28%\n",
            "Test Loss: 0.9654, Test Acc: 79.45%\n",
            "Best Test Acc: 80.51%\n",
            "\n",
            "Epoch: 107/200\n"
          ]
        },
        {
          "name": "stderr",
          "output_type": "stream",
          "text": [
            "Training: 100%|██████████| 391/391 [01:00<00:00,  6.48it/s, Loss=1.063, Acc=74.28%]\n",
            "Testing: 100%|██████████| 79/79 [00:04<00:00, 19.70it/s, Loss=0.936, Acc=80.87%]\n"
          ]
        },
        {
          "name": "stdout",
          "output_type": "stream",
          "text": [
            "Train Loss: 1.0633, Train Acc: 74.28%\n",
            "Test Loss: 0.9356, Test Acc: 80.87%\n",
            "Best Test Acc: 80.87%\n",
            "\n",
            "Epoch: 108/200\n"
          ]
        },
        {
          "name": "stderr",
          "output_type": "stream",
          "text": [
            "Training: 100%|██████████| 391/391 [01:00<00:00,  6.46it/s, Loss=1.048, Acc=75.06%]\n",
            "Testing: 100%|██████████| 79/79 [00:04<00:00, 19.50it/s, Loss=0.954, Acc=80.27%]\n"
          ]
        },
        {
          "name": "stdout",
          "output_type": "stream",
          "text": [
            "Train Loss: 1.0482, Train Acc: 75.06%\n",
            "Test Loss: 0.9538, Test Acc: 80.27%\n",
            "Best Test Acc: 80.87%\n",
            "\n",
            "Epoch: 109/200\n"
          ]
        },
        {
          "name": "stderr",
          "output_type": "stream",
          "text": [
            "Training: 100%|██████████| 391/391 [01:00<00:00,  6.46it/s, Loss=1.049, Acc=75.09%]\n",
            "Testing: 100%|██████████| 79/79 [00:04<00:00, 19.68it/s, Loss=0.943, Acc=80.34%]\n"
          ]
        },
        {
          "name": "stdout",
          "output_type": "stream",
          "text": [
            "Train Loss: 1.0491, Train Acc: 75.09%\n",
            "Test Loss: 0.9433, Test Acc: 80.34%\n",
            "Best Test Acc: 80.87%\n",
            "\n",
            "Epoch: 110/200\n"
          ]
        },
        {
          "name": "stderr",
          "output_type": "stream",
          "text": [
            "Training: 100%|██████████| 391/391 [01:00<00:00,  6.48it/s, Loss=1.051, Acc=74.95%]\n",
            "Testing: 100%|██████████| 79/79 [00:04<00:00, 19.64it/s, Loss=0.934, Acc=81.04%]\n"
          ]
        },
        {
          "name": "stdout",
          "output_type": "stream",
          "text": [
            "Train Loss: 1.0505, Train Acc: 74.95%\n",
            "Test Loss: 0.9342, Test Acc: 81.04%\n",
            "Best Test Acc: 81.04%\n",
            "\n",
            "Epoch: 111/200\n"
          ]
        },
        {
          "name": "stderr",
          "output_type": "stream",
          "text": [
            "Training: 100%|██████████| 391/391 [01:01<00:00,  6.40it/s, Loss=1.041, Acc=75.33%]\n",
            "Testing: 100%|██████████| 79/79 [00:04<00:00, 19.50it/s, Loss=0.929, Acc=81.53%]\n"
          ]
        },
        {
          "name": "stdout",
          "output_type": "stream",
          "text": [
            "Train Loss: 1.0415, Train Acc: 75.33%\n",
            "Test Loss: 0.9292, Test Acc: 81.53%\n",
            "Best Test Acc: 81.53%\n",
            "\n",
            "Epoch: 112/200\n"
          ]
        },
        {
          "name": "stderr",
          "output_type": "stream",
          "text": [
            "Training: 100%|██████████| 391/391 [01:00<00:00,  6.45it/s, Loss=1.038, Acc=75.64%]\n",
            "Testing: 100%|██████████| 79/79 [00:04<00:00, 18.49it/s, Loss=0.925, Acc=81.89%]\n"
          ]
        },
        {
          "name": "stdout",
          "output_type": "stream",
          "text": [
            "Train Loss: 1.0376, Train Acc: 75.64%\n",
            "Test Loss: 0.9251, Test Acc: 81.89%\n",
            "Best Test Acc: 81.89%\n",
            "\n",
            "Epoch: 113/200\n"
          ]
        },
        {
          "name": "stderr",
          "output_type": "stream",
          "text": [
            "Training: 100%|██████████| 391/391 [01:00<00:00,  6.46it/s, Loss=1.031, Acc=75.88%]\n",
            "Testing: 100%|██████████| 79/79 [00:04<00:00, 18.33it/s, Loss=0.933, Acc=81.17%]\n"
          ]
        },
        {
          "name": "stdout",
          "output_type": "stream",
          "text": [
            "Train Loss: 1.0311, Train Acc: 75.88%\n",
            "Test Loss: 0.9335, Test Acc: 81.17%\n",
            "Best Test Acc: 81.89%\n",
            "\n",
            "Epoch: 114/200\n"
          ]
        },
        {
          "name": "stderr",
          "output_type": "stream",
          "text": [
            "Training: 100%|██████████| 391/391 [01:00<00:00,  6.49it/s, Loss=1.027, Acc=76.19%]\n",
            "Testing: 100%|██████████| 79/79 [00:04<00:00, 18.22it/s, Loss=0.933, Acc=80.89%]\n"
          ]
        },
        {
          "name": "stdout",
          "output_type": "stream",
          "text": [
            "Train Loss: 1.0265, Train Acc: 76.19%\n",
            "Test Loss: 0.9330, Test Acc: 80.89%\n",
            "Best Test Acc: 81.89%\n",
            "\n",
            "Epoch: 115/200\n"
          ]
        },
        {
          "name": "stderr",
          "output_type": "stream",
          "text": [
            "Training: 100%|██████████| 391/391 [01:00<00:00,  6.52it/s, Loss=1.022, Acc=76.55%]\n",
            "Testing: 100%|██████████| 79/79 [00:04<00:00, 19.04it/s, Loss=0.932, Acc=80.82%]\n"
          ]
        },
        {
          "name": "stdout",
          "output_type": "stream",
          "text": [
            "Train Loss: 1.0220, Train Acc: 76.55%\n",
            "Test Loss: 0.9319, Test Acc: 80.82%\n",
            "Best Test Acc: 81.89%\n",
            "\n",
            "Epoch: 116/200\n"
          ]
        },
        {
          "name": "stderr",
          "output_type": "stream",
          "text": [
            "Training: 100%|██████████| 391/391 [00:59<00:00,  6.52it/s, Loss=1.015, Acc=76.69%]\n",
            "Testing: 100%|██████████| 79/79 [00:03<00:00, 19.78it/s, Loss=0.948, Acc=80.24%]\n"
          ]
        },
        {
          "name": "stdout",
          "output_type": "stream",
          "text": [
            "Train Loss: 1.0151, Train Acc: 76.69%\n",
            "Test Loss: 0.9483, Test Acc: 80.24%\n",
            "Best Test Acc: 81.89%\n",
            "\n",
            "Epoch: 117/200\n"
          ]
        },
        {
          "name": "stderr",
          "output_type": "stream",
          "text": [
            "Training: 100%|██████████| 391/391 [01:00<00:00,  6.46it/s, Loss=1.013, Acc=76.72%]\n",
            "Testing: 100%|██████████| 79/79 [00:04<00:00, 19.64it/s, Loss=0.926, Acc=81.23%]\n"
          ]
        },
        {
          "name": "stdout",
          "output_type": "stream",
          "text": [
            "Train Loss: 1.0134, Train Acc: 76.72%\n",
            "Test Loss: 0.9263, Test Acc: 81.23%\n",
            "Best Test Acc: 81.89%\n",
            "\n",
            "Epoch: 118/200\n"
          ]
        },
        {
          "name": "stderr",
          "output_type": "stream",
          "text": [
            "Training: 100%|██████████| 391/391 [01:00<00:00,  6.46it/s, Loss=1.005, Acc=77.05%]\n",
            "Testing: 100%|██████████| 79/79 [00:04<00:00, 19.64it/s, Loss=0.918, Acc=82.04%]\n"
          ]
        },
        {
          "name": "stdout",
          "output_type": "stream",
          "text": [
            "Train Loss: 1.0051, Train Acc: 77.05%\n",
            "Test Loss: 0.9179, Test Acc: 82.04%\n",
            "Best Test Acc: 82.04%\n",
            "\n",
            "Epoch: 119/200\n"
          ]
        },
        {
          "name": "stderr",
          "output_type": "stream",
          "text": [
            "Training: 100%|██████████| 391/391 [01:00<00:00,  6.52it/s, Loss=1.003, Acc=77.20%]\n",
            "Testing: 100%|██████████| 79/79 [00:04<00:00, 19.71it/s, Loss=0.914, Acc=81.94%]\n"
          ]
        },
        {
          "name": "stdout",
          "output_type": "stream",
          "text": [
            "Train Loss: 1.0026, Train Acc: 77.20%\n",
            "Test Loss: 0.9144, Test Acc: 81.94%\n",
            "Best Test Acc: 82.04%\n",
            "\n",
            "Epoch: 120/200\n"
          ]
        },
        {
          "name": "stderr",
          "output_type": "stream",
          "text": [
            "Training: 100%|██████████| 391/391 [01:00<00:00,  6.49it/s, Loss=0.996, Acc=77.49%]\n",
            "Testing: 100%|██████████| 79/79 [00:04<00:00, 19.71it/s, Loss=0.922, Acc=81.47%]\n"
          ]
        },
        {
          "name": "stdout",
          "output_type": "stream",
          "text": [
            "Train Loss: 0.9961, Train Acc: 77.49%\n",
            "Test Loss: 0.9219, Test Acc: 81.47%\n",
            "Best Test Acc: 82.04%\n",
            "\n",
            "Epoch: 121/200\n"
          ]
        },
        {
          "name": "stderr",
          "output_type": "stream",
          "text": [
            "Training: 100%|██████████| 391/391 [01:00<00:00,  6.46it/s, Loss=0.993, Acc=77.70%]\n",
            "Testing: 100%|██████████| 79/79 [00:04<00:00, 19.58it/s, Loss=0.917, Acc=81.97%]\n"
          ]
        },
        {
          "name": "stdout",
          "output_type": "stream",
          "text": [
            "Train Loss: 0.9925, Train Acc: 77.70%\n",
            "Test Loss: 0.9170, Test Acc: 81.97%\n",
            "Best Test Acc: 82.04%\n",
            "\n",
            "Epoch: 122/200\n"
          ]
        },
        {
          "name": "stderr",
          "output_type": "stream",
          "text": [
            "Training: 100%|██████████| 391/391 [01:00<00:00,  6.49it/s, Loss=0.984, Acc=78.08%]\n",
            "Testing: 100%|██████████| 79/79 [00:04<00:00, 18.81it/s, Loss=0.909, Acc=82.11%]\n"
          ]
        },
        {
          "name": "stdout",
          "output_type": "stream",
          "text": [
            "Train Loss: 0.9843, Train Acc: 78.08%\n",
            "Test Loss: 0.9085, Test Acc: 82.11%\n",
            "Best Test Acc: 82.11%\n",
            "\n",
            "Epoch: 123/200\n"
          ]
        },
        {
          "name": "stderr",
          "output_type": "stream",
          "text": [
            "Training: 100%|██████████| 391/391 [01:00<00:00,  6.46it/s, Loss=0.981, Acc=78.25%]\n",
            "Testing: 100%|██████████| 79/79 [00:04<00:00, 17.97it/s, Loss=0.906, Acc=82.35%]\n"
          ]
        },
        {
          "name": "stdout",
          "output_type": "stream",
          "text": [
            "Train Loss: 0.9807, Train Acc: 78.25%\n",
            "Test Loss: 0.9062, Test Acc: 82.35%\n",
            "Best Test Acc: 82.35%\n",
            "\n",
            "Epoch: 124/200\n"
          ]
        },
        {
          "name": "stderr",
          "output_type": "stream",
          "text": [
            "Training: 100%|██████████| 391/391 [00:59<00:00,  6.52it/s, Loss=0.976, Acc=78.63%]\n",
            "Testing: 100%|██████████| 79/79 [00:04<00:00, 18.17it/s, Loss=0.918, Acc=82.18%]\n"
          ]
        },
        {
          "name": "stdout",
          "output_type": "stream",
          "text": [
            "Train Loss: 0.9760, Train Acc: 78.63%\n",
            "Test Loss: 0.9179, Test Acc: 82.18%\n",
            "Best Test Acc: 82.35%\n",
            "\n",
            "Epoch: 125/200\n"
          ]
        },
        {
          "name": "stderr",
          "output_type": "stream",
          "text": [
            "Training: 100%|██████████| 391/391 [01:00<00:00,  6.48it/s, Loss=0.973, Acc=78.47%]\n",
            "Testing: 100%|██████████| 79/79 [00:04<00:00, 18.30it/s, Loss=0.903, Acc=82.60%]\n"
          ]
        },
        {
          "name": "stdout",
          "output_type": "stream",
          "text": [
            "Train Loss: 0.9732, Train Acc: 78.47%\n",
            "Test Loss: 0.9031, Test Acc: 82.60%\n",
            "Best Test Acc: 82.60%\n",
            "\n",
            "Epoch: 126/200\n"
          ]
        },
        {
          "name": "stderr",
          "output_type": "stream",
          "text": [
            "Training: 100%|██████████| 391/391 [01:00<00:00,  6.47it/s, Loss=0.963, Acc=79.06%]\n",
            "Testing: 100%|██████████| 79/79 [00:04<00:00, 19.55it/s, Loss=0.913, Acc=82.04%]\n"
          ]
        },
        {
          "name": "stdout",
          "output_type": "stream",
          "text": [
            "Train Loss: 0.9630, Train Acc: 79.06%\n",
            "Test Loss: 0.9132, Test Acc: 82.04%\n",
            "Best Test Acc: 82.60%\n",
            "\n",
            "Epoch: 127/200\n"
          ]
        },
        {
          "name": "stderr",
          "output_type": "stream",
          "text": [
            "Training: 100%|██████████| 391/391 [00:59<00:00,  6.52it/s, Loss=0.960, Acc=79.10%]\n",
            "Testing: 100%|██████████| 79/79 [00:03<00:00, 19.80it/s, Loss=0.916, Acc=81.84%]\n"
          ]
        },
        {
          "name": "stdout",
          "output_type": "stream",
          "text": [
            "Train Loss: 0.9599, Train Acc: 79.10%\n",
            "Test Loss: 0.9162, Test Acc: 81.84%\n",
            "Best Test Acc: 82.60%\n",
            "\n",
            "Epoch: 128/200\n"
          ]
        },
        {
          "name": "stderr",
          "output_type": "stream",
          "text": [
            "Training: 100%|██████████| 391/391 [00:59<00:00,  6.52it/s, Loss=0.957, Acc=79.32%]\n",
            "Testing: 100%|██████████| 79/79 [00:03<00:00, 19.76it/s, Loss=0.910, Acc=82.17%]\n"
          ]
        },
        {
          "name": "stdout",
          "output_type": "stream",
          "text": [
            "Train Loss: 0.9567, Train Acc: 79.32%\n",
            "Test Loss: 0.9101, Test Acc: 82.17%\n",
            "Best Test Acc: 82.60%\n",
            "\n",
            "Epoch: 129/200\n"
          ]
        },
        {
          "name": "stderr",
          "output_type": "stream",
          "text": [
            "Training: 100%|██████████| 391/391 [01:00<00:00,  6.51it/s, Loss=0.950, Acc=79.74%]\n",
            "Testing: 100%|██████████| 79/79 [00:04<00:00, 19.58it/s, Loss=0.911, Acc=82.14%]\n"
          ]
        },
        {
          "name": "stdout",
          "output_type": "stream",
          "text": [
            "Train Loss: 0.9497, Train Acc: 79.74%\n",
            "Test Loss: 0.9107, Test Acc: 82.14%\n",
            "Best Test Acc: 82.60%\n",
            "\n",
            "Epoch: 130/200\n"
          ]
        },
        {
          "name": "stderr",
          "output_type": "stream",
          "text": [
            "Training: 100%|██████████| 391/391 [01:00<00:00,  6.50it/s, Loss=0.951, Acc=79.64%]\n",
            "Testing: 100%|██████████| 79/79 [00:04<00:00, 19.54it/s, Loss=0.896, Acc=82.88%]\n"
          ]
        },
        {
          "name": "stdout",
          "output_type": "stream",
          "text": [
            "Train Loss: 0.9511, Train Acc: 79.64%\n",
            "Test Loss: 0.8964, Test Acc: 82.88%\n",
            "Best Test Acc: 82.88%\n",
            "\n",
            "Epoch: 131/200\n"
          ]
        },
        {
          "name": "stderr",
          "output_type": "stream",
          "text": [
            "Training: 100%|██████████| 391/391 [01:00<00:00,  6.49it/s, Loss=0.951, Acc=79.52%]\n",
            "Testing: 100%|██████████| 79/79 [00:04<00:00, 19.62it/s, Loss=0.909, Acc=82.28%]\n"
          ]
        },
        {
          "name": "stdout",
          "output_type": "stream",
          "text": [
            "Train Loss: 0.9508, Train Acc: 79.52%\n",
            "Test Loss: 0.9087, Test Acc: 82.28%\n",
            "Best Test Acc: 82.88%\n",
            "\n",
            "Epoch: 132/200\n"
          ]
        },
        {
          "name": "stderr",
          "output_type": "stream",
          "text": [
            "Training: 100%|██████████| 391/391 [01:00<00:00,  6.45it/s, Loss=0.934, Acc=80.37%]\n",
            "Testing: 100%|██████████| 79/79 [00:04<00:00, 18.40it/s, Loss=0.895, Acc=83.14%]\n"
          ]
        },
        {
          "name": "stdout",
          "output_type": "stream",
          "text": [
            "Train Loss: 0.9337, Train Acc: 80.37%\n",
            "Test Loss: 0.8950, Test Acc: 83.14%\n",
            "Best Test Acc: 83.14%\n",
            "\n",
            "Epoch: 133/200\n"
          ]
        },
        {
          "name": "stderr",
          "output_type": "stream",
          "text": [
            "Training: 100%|██████████| 391/391 [01:00<00:00,  6.52it/s, Loss=0.934, Acc=80.49%]\n",
            "Testing: 100%|██████████| 79/79 [00:04<00:00, 18.51it/s, Loss=0.890, Acc=83.08%]\n"
          ]
        },
        {
          "name": "stdout",
          "output_type": "stream",
          "text": [
            "Train Loss: 0.9342, Train Acc: 80.49%\n",
            "Test Loss: 0.8901, Test Acc: 83.08%\n",
            "Best Test Acc: 83.14%\n",
            "\n",
            "Epoch: 134/200\n"
          ]
        },
        {
          "name": "stderr",
          "output_type": "stream",
          "text": [
            "Training: 100%|██████████| 391/391 [00:59<00:00,  6.52it/s, Loss=0.932, Acc=80.41%]\n",
            "Testing: 100%|██████████| 79/79 [00:04<00:00, 18.50it/s, Loss=0.887, Acc=83.33%]\n"
          ]
        },
        {
          "name": "stdout",
          "output_type": "stream",
          "text": [
            "Train Loss: 0.9324, Train Acc: 80.41%\n",
            "Test Loss: 0.8874, Test Acc: 83.33%\n",
            "Best Test Acc: 83.33%\n",
            "\n",
            "Epoch: 135/200\n"
          ]
        },
        {
          "name": "stderr",
          "output_type": "stream",
          "text": [
            "Training: 100%|██████████| 391/391 [01:00<00:00,  6.52it/s, Loss=0.928, Acc=80.85%]\n",
            "Testing: 100%|██████████| 79/79 [00:04<00:00, 19.20it/s, Loss=0.900, Acc=83.25%]\n"
          ]
        },
        {
          "name": "stdout",
          "output_type": "stream",
          "text": [
            "Train Loss: 0.9278, Train Acc: 80.85%\n",
            "Test Loss: 0.8998, Test Acc: 83.25%\n",
            "Best Test Acc: 83.33%\n",
            "\n",
            "Epoch: 136/200\n"
          ]
        },
        {
          "name": "stderr",
          "output_type": "stream",
          "text": [
            "Training: 100%|██████████| 391/391 [01:00<00:00,  6.49it/s, Loss=0.917, Acc=81.15%]\n",
            "Testing: 100%|██████████| 79/79 [00:04<00:00, 19.75it/s, Loss=0.899, Acc=83.14%]\n"
          ]
        },
        {
          "name": "stdout",
          "output_type": "stream",
          "text": [
            "Train Loss: 0.9169, Train Acc: 81.15%\n",
            "Test Loss: 0.8987, Test Acc: 83.14%\n",
            "Best Test Acc: 83.33%\n",
            "\n",
            "Epoch: 137/200\n"
          ]
        },
        {
          "name": "stderr",
          "output_type": "stream",
          "text": [
            "Training: 100%|██████████| 391/391 [01:00<00:00,  6.50it/s, Loss=0.919, Acc=80.99%]\n",
            "Testing: 100%|██████████| 79/79 [00:03<00:00, 19.83it/s, Loss=0.888, Acc=83.49%]\n"
          ]
        },
        {
          "name": "stdout",
          "output_type": "stream",
          "text": [
            "Train Loss: 0.9187, Train Acc: 80.99%\n",
            "Test Loss: 0.8877, Test Acc: 83.49%\n",
            "Best Test Acc: 83.49%\n",
            "\n",
            "Epoch: 138/200\n"
          ]
        },
        {
          "name": "stderr",
          "output_type": "stream",
          "text": [
            "Training: 100%|██████████| 391/391 [01:00<00:00,  6.50it/s, Loss=0.914, Acc=81.24%]\n",
            "Testing: 100%|██████████| 79/79 [00:04<00:00, 19.66it/s, Loss=0.889, Acc=83.44%]\n"
          ]
        },
        {
          "name": "stdout",
          "output_type": "stream",
          "text": [
            "Train Loss: 0.9135, Train Acc: 81.24%\n",
            "Test Loss: 0.8889, Test Acc: 83.44%\n",
            "Best Test Acc: 83.49%\n",
            "\n",
            "Epoch: 139/200\n"
          ]
        },
        {
          "name": "stderr",
          "output_type": "stream",
          "text": [
            "Training: 100%|██████████| 391/391 [01:00<00:00,  6.50it/s, Loss=0.907, Acc=81.70%]\n",
            "Testing: 100%|██████████| 79/79 [00:04<00:00, 19.66it/s, Loss=0.879, Acc=83.72%]\n"
          ]
        },
        {
          "name": "stdout",
          "output_type": "stream",
          "text": [
            "Train Loss: 0.9072, Train Acc: 81.70%\n",
            "Test Loss: 0.8793, Test Acc: 83.72%\n",
            "Best Test Acc: 83.72%\n",
            "\n",
            "Epoch: 140/200\n"
          ]
        },
        {
          "name": "stderr",
          "output_type": "stream",
          "text": [
            "Training: 100%|██████████| 391/391 [01:00<00:00,  6.51it/s, Loss=0.905, Acc=81.66%]\n",
            "Testing: 100%|██████████| 79/79 [00:04<00:00, 19.73it/s, Loss=0.900, Acc=83.25%]\n"
          ]
        },
        {
          "name": "stdout",
          "output_type": "stream",
          "text": [
            "Train Loss: 0.9051, Train Acc: 81.66%\n",
            "Test Loss: 0.9005, Test Acc: 83.25%\n",
            "Best Test Acc: 83.72%\n",
            "\n",
            "Epoch: 141/200\n"
          ]
        },
        {
          "name": "stderr",
          "output_type": "stream",
          "text": [
            "Training: 100%|██████████| 391/391 [01:00<00:00,  6.49it/s, Loss=0.900, Acc=81.94%]\n",
            "Testing: 100%|██████████| 79/79 [00:04<00:00, 19.36it/s, Loss=0.882, Acc=84.12%]\n"
          ]
        },
        {
          "name": "stdout",
          "output_type": "stream",
          "text": [
            "Train Loss: 0.8997, Train Acc: 81.94%\n",
            "Test Loss: 0.8820, Test Acc: 84.12%\n",
            "Best Test Acc: 84.12%\n",
            "\n",
            "Epoch: 142/200\n"
          ]
        },
        {
          "name": "stderr",
          "output_type": "stream",
          "text": [
            "Training: 100%|██████████| 391/391 [01:00<00:00,  6.49it/s, Loss=0.895, Acc=82.28%]\n",
            "Testing: 100%|██████████| 79/79 [00:04<00:00, 18.44it/s, Loss=0.883, Acc=83.83%]\n"
          ]
        },
        {
          "name": "stdout",
          "output_type": "stream",
          "text": [
            "Train Loss: 0.8946, Train Acc: 82.28%\n",
            "Test Loss: 0.8829, Test Acc: 83.83%\n",
            "Best Test Acc: 84.12%\n",
            "\n",
            "Epoch: 143/200\n"
          ]
        },
        {
          "name": "stderr",
          "output_type": "stream",
          "text": [
            "Training: 100%|██████████| 391/391 [01:00<00:00,  6.50it/s, Loss=0.897, Acc=82.13%]\n",
            "Testing: 100%|██████████| 79/79 [00:04<00:00, 18.40it/s, Loss=0.883, Acc=83.63%]\n"
          ]
        },
        {
          "name": "stdout",
          "output_type": "stream",
          "text": [
            "Train Loss: 0.8970, Train Acc: 82.13%\n",
            "Test Loss: 0.8835, Test Acc: 83.63%\n",
            "Best Test Acc: 84.12%\n",
            "\n",
            "Epoch: 144/200\n"
          ]
        },
        {
          "name": "stderr",
          "output_type": "stream",
          "text": [
            "Training: 100%|██████████| 391/391 [01:00<00:00,  6.51it/s, Loss=0.892, Acc=82.35%]\n",
            "Testing: 100%|██████████| 79/79 [00:04<00:00, 18.69it/s, Loss=0.886, Acc=83.76%]\n"
          ]
        },
        {
          "name": "stdout",
          "output_type": "stream",
          "text": [
            "Train Loss: 0.8924, Train Acc: 82.35%\n",
            "Test Loss: 0.8857, Test Acc: 83.76%\n",
            "Best Test Acc: 84.12%\n",
            "\n",
            "Epoch: 145/200\n"
          ]
        },
        {
          "name": "stderr",
          "output_type": "stream",
          "text": [
            "Training: 100%|██████████| 391/391 [01:00<00:00,  6.49it/s, Loss=0.887, Acc=82.44%]\n",
            "Testing: 100%|██████████| 79/79 [00:04<00:00, 19.54it/s, Loss=0.880, Acc=84.15%]\n"
          ]
        },
        {
          "name": "stdout",
          "output_type": "stream",
          "text": [
            "Train Loss: 0.8868, Train Acc: 82.44%\n",
            "Test Loss: 0.8804, Test Acc: 84.15%\n",
            "Best Test Acc: 84.15%\n",
            "\n",
            "Epoch: 146/200\n"
          ]
        },
        {
          "name": "stderr",
          "output_type": "stream",
          "text": [
            "Training: 100%|██████████| 391/391 [01:00<00:00,  6.50it/s, Loss=0.886, Acc=82.75%]\n",
            "Testing: 100%|██████████| 79/79 [00:03<00:00, 19.85it/s, Loss=0.886, Acc=83.89%]\n"
          ]
        },
        {
          "name": "stdout",
          "output_type": "stream",
          "text": [
            "Train Loss: 0.8855, Train Acc: 82.75%\n",
            "Test Loss: 0.8859, Test Acc: 83.89%\n",
            "Best Test Acc: 84.15%\n",
            "\n",
            "Epoch: 147/200\n"
          ]
        },
        {
          "name": "stderr",
          "output_type": "stream",
          "text": [
            "Training: 100%|██████████| 391/391 [01:00<00:00,  6.50it/s, Loss=0.879, Acc=82.81%]\n",
            "Testing: 100%|██████████| 79/79 [00:03<00:00, 19.86it/s, Loss=0.882, Acc=84.16%]\n"
          ]
        },
        {
          "name": "stdout",
          "output_type": "stream",
          "text": [
            "Train Loss: 0.8792, Train Acc: 82.81%\n",
            "Test Loss: 0.8817, Test Acc: 84.16%\n",
            "Best Test Acc: 84.16%\n",
            "\n",
            "Epoch: 148/200\n"
          ]
        },
        {
          "name": "stderr",
          "output_type": "stream",
          "text": [
            "Training: 100%|██████████| 391/391 [01:00<00:00,  6.52it/s, Loss=0.880, Acc=83.05%]\n",
            "Testing: 100%|██████████| 79/79 [00:03<00:00, 19.84it/s, Loss=0.886, Acc=83.78%]\n"
          ]
        },
        {
          "name": "stdout",
          "output_type": "stream",
          "text": [
            "Train Loss: 0.8796, Train Acc: 83.05%\n",
            "Test Loss: 0.8864, Test Acc: 83.78%\n",
            "Best Test Acc: 84.16%\n",
            "\n",
            "Epoch: 149/200\n"
          ]
        },
        {
          "name": "stderr",
          "output_type": "stream",
          "text": [
            "Training: 100%|██████████| 391/391 [01:00<00:00,  6.51it/s, Loss=0.873, Acc=83.34%]\n",
            "Testing: 100%|██████████| 79/79 [00:04<00:00, 19.73it/s, Loss=0.883, Acc=83.83%]\n"
          ]
        },
        {
          "name": "stdout",
          "output_type": "stream",
          "text": [
            "Train Loss: 0.8727, Train Acc: 83.34%\n",
            "Test Loss: 0.8832, Test Acc: 83.83%\n",
            "Best Test Acc: 84.16%\n",
            "\n",
            "Epoch: 150/200\n"
          ]
        },
        {
          "name": "stderr",
          "output_type": "stream",
          "text": [
            "Training: 100%|██████████| 391/391 [01:00<00:00,  6.51it/s, Loss=0.871, Acc=83.37%]\n",
            "Testing: 100%|██████████| 79/79 [00:03<00:00, 19.81it/s, Loss=0.872, Acc=84.65%]\n"
          ]
        },
        {
          "name": "stdout",
          "output_type": "stream",
          "text": [
            "Train Loss: 0.8707, Train Acc: 83.37%\n",
            "Test Loss: 0.8720, Test Acc: 84.65%\n",
            "Best Test Acc: 84.65%\n",
            "\n",
            "Epoch: 151/200\n"
          ]
        },
        {
          "name": "stderr",
          "output_type": "stream",
          "text": [
            "Training: 100%|██████████| 391/391 [00:59<00:00,  6.52it/s, Loss=0.868, Acc=83.56%]\n",
            "Testing: 100%|██████████| 79/79 [00:03<00:00, 19.83it/s, Loss=0.876, Acc=84.52%]\n"
          ]
        },
        {
          "name": "stdout",
          "output_type": "stream",
          "text": [
            "Train Loss: 0.8680, Train Acc: 83.56%\n",
            "Test Loss: 0.8764, Test Acc: 84.52%\n",
            "Best Test Acc: 84.65%\n",
            "\n",
            "Epoch: 152/200\n"
          ]
        },
        {
          "name": "stderr",
          "output_type": "stream",
          "text": [
            "Training: 100%|██████████| 391/391 [01:00<00:00,  6.49it/s, Loss=0.863, Acc=83.65%]\n",
            "Testing: 100%|██████████| 79/79 [00:04<00:00, 19.26it/s, Loss=0.879, Acc=84.35%]\n"
          ]
        },
        {
          "name": "stdout",
          "output_type": "stream",
          "text": [
            "Train Loss: 0.8633, Train Acc: 83.65%\n",
            "Test Loss: 0.8787, Test Acc: 84.35%\n",
            "Best Test Acc: 84.65%\n",
            "\n",
            "Epoch: 153/200\n"
          ]
        },
        {
          "name": "stderr",
          "output_type": "stream",
          "text": [
            "Training: 100%|██████████| 391/391 [01:00<00:00,  6.50it/s, Loss=0.865, Acc=83.43%]\n",
            "Testing: 100%|██████████| 79/79 [00:04<00:00, 18.37it/s, Loss=0.874, Acc=84.53%]\n"
          ]
        },
        {
          "name": "stdout",
          "output_type": "stream",
          "text": [
            "Train Loss: 0.8651, Train Acc: 83.43%\n",
            "Test Loss: 0.8741, Test Acc: 84.53%\n",
            "Best Test Acc: 84.65%\n",
            "\n",
            "Epoch: 154/200\n"
          ]
        },
        {
          "name": "stderr",
          "output_type": "stream",
          "text": [
            "Training: 100%|██████████| 391/391 [00:59<00:00,  6.52it/s, Loss=0.857, Acc=83.80%]\n",
            "Testing: 100%|██████████| 79/79 [00:04<00:00, 18.22it/s, Loss=0.878, Acc=84.48%]\n"
          ]
        },
        {
          "name": "stdout",
          "output_type": "stream",
          "text": [
            "Train Loss: 0.8565, Train Acc: 83.80%\n",
            "Test Loss: 0.8783, Test Acc: 84.48%\n",
            "Best Test Acc: 84.65%\n",
            "\n",
            "Epoch: 155/200\n"
          ]
        },
        {
          "name": "stderr",
          "output_type": "stream",
          "text": [
            "Training: 100%|██████████| 391/391 [01:00<00:00,  6.51it/s, Loss=0.855, Acc=84.04%]\n",
            "Testing: 100%|██████████| 79/79 [00:04<00:00, 18.58it/s, Loss=0.876, Acc=84.52%]\n"
          ]
        },
        {
          "name": "stdout",
          "output_type": "stream",
          "text": [
            "Train Loss: 0.8550, Train Acc: 84.04%\n",
            "Test Loss: 0.8755, Test Acc: 84.52%\n",
            "Best Test Acc: 84.65%\n",
            "\n",
            "Epoch: 156/200\n"
          ]
        },
        {
          "name": "stderr",
          "output_type": "stream",
          "text": [
            "Training: 100%|██████████| 391/391 [00:59<00:00,  6.52it/s, Loss=0.848, Acc=84.28%]\n",
            "Testing: 100%|██████████| 79/79 [00:04<00:00, 19.04it/s, Loss=0.881, Acc=84.21%]\n"
          ]
        },
        {
          "name": "stdout",
          "output_type": "stream",
          "text": [
            "Train Loss: 0.8482, Train Acc: 84.28%\n",
            "Test Loss: 0.8815, Test Acc: 84.21%\n",
            "Best Test Acc: 84.65%\n",
            "\n",
            "Epoch: 157/200\n"
          ]
        },
        {
          "name": "stderr",
          "output_type": "stream",
          "text": [
            "Training: 100%|██████████| 391/391 [00:59<00:00,  6.52it/s, Loss=0.847, Acc=84.45%]\n",
            "Testing: 100%|██████████| 79/79 [00:04<00:00, 19.55it/s, Loss=0.872, Acc=84.80%]\n"
          ]
        },
        {
          "name": "stdout",
          "output_type": "stream",
          "text": [
            "Train Loss: 0.8469, Train Acc: 84.45%\n",
            "Test Loss: 0.8724, Test Acc: 84.80%\n",
            "Best Test Acc: 84.80%\n",
            "\n",
            "Epoch: 158/200\n"
          ]
        },
        {
          "name": "stderr",
          "output_type": "stream",
          "text": [
            "Training: 100%|██████████| 391/391 [01:00<00:00,  6.51it/s, Loss=0.849, Acc=84.44%]\n",
            "Testing: 100%|██████████| 79/79 [00:04<00:00, 19.68it/s, Loss=0.878, Acc=84.45%]\n"
          ]
        },
        {
          "name": "stdout",
          "output_type": "stream",
          "text": [
            "Train Loss: 0.8490, Train Acc: 84.44%\n",
            "Test Loss: 0.8781, Test Acc: 84.45%\n",
            "Best Test Acc: 84.80%\n",
            "\n",
            "Epoch: 159/200\n"
          ]
        },
        {
          "name": "stderr",
          "output_type": "stream",
          "text": [
            "Training: 100%|██████████| 391/391 [01:00<00:00,  6.50it/s, Loss=0.842, Acc=84.45%]\n",
            "Testing: 100%|██████████| 79/79 [00:04<00:00, 19.65it/s, Loss=0.871, Acc=84.55%]\n"
          ]
        },
        {
          "name": "stdout",
          "output_type": "stream",
          "text": [
            "Train Loss: 0.8422, Train Acc: 84.45%\n",
            "Test Loss: 0.8710, Test Acc: 84.55%\n",
            "Best Test Acc: 84.80%\n",
            "\n",
            "Epoch: 160/200\n"
          ]
        },
        {
          "name": "stderr",
          "output_type": "stream",
          "text": [
            "Training: 100%|██████████| 391/391 [01:00<00:00,  6.50it/s, Loss=0.842, Acc=84.62%]\n",
            "Testing: 100%|██████████| 79/79 [00:03<00:00, 19.78it/s, Loss=0.872, Acc=84.85%]\n"
          ]
        },
        {
          "name": "stdout",
          "output_type": "stream",
          "text": [
            "Train Loss: 0.8423, Train Acc: 84.62%\n",
            "Test Loss: 0.8720, Test Acc: 84.85%\n",
            "Best Test Acc: 84.85%\n",
            "\n",
            "Epoch: 161/200\n"
          ]
        },
        {
          "name": "stderr",
          "output_type": "stream",
          "text": [
            "Training: 100%|██████████| 391/391 [01:00<00:00,  6.50it/s, Loss=0.837, Acc=84.95%]\n",
            "Testing: 100%|██████████| 79/79 [00:04<00:00, 19.72it/s, Loss=0.870, Acc=84.84%]\n"
          ]
        },
        {
          "name": "stdout",
          "output_type": "stream",
          "text": [
            "Train Loss: 0.8373, Train Acc: 84.95%\n",
            "Test Loss: 0.8696, Test Acc: 84.84%\n",
            "Best Test Acc: 84.85%\n",
            "\n",
            "Epoch: 162/200\n"
          ]
        },
        {
          "name": "stderr",
          "output_type": "stream",
          "text": [
            "Training: 100%|██████████| 391/391 [01:00<00:00,  6.49it/s, Loss=0.834, Acc=85.02%]\n",
            "Testing: 100%|██████████| 79/79 [00:04<00:00, 19.48it/s, Loss=0.870, Acc=85.19%]\n"
          ]
        },
        {
          "name": "stdout",
          "output_type": "stream",
          "text": [
            "Train Loss: 0.8343, Train Acc: 85.02%\n",
            "Test Loss: 0.8704, Test Acc: 85.19%\n",
            "Best Test Acc: 85.19%\n",
            "\n",
            "Epoch: 163/200\n"
          ]
        },
        {
          "name": "stderr",
          "output_type": "stream",
          "text": [
            "Training: 100%|██████████| 391/391 [01:00<00:00,  6.47it/s, Loss=0.829, Acc=85.15%]\n",
            "Testing: 100%|██████████| 79/79 [00:04<00:00, 18.43it/s, Loss=0.871, Acc=84.80%]\n"
          ]
        },
        {
          "name": "stdout",
          "output_type": "stream",
          "text": [
            "Train Loss: 0.8292, Train Acc: 85.15%\n",
            "Test Loss: 0.8707, Test Acc: 84.80%\n",
            "Best Test Acc: 85.19%\n",
            "\n",
            "Epoch: 164/200\n"
          ]
        },
        {
          "name": "stderr",
          "output_type": "stream",
          "text": [
            "Training: 100%|██████████| 391/391 [01:00<00:00,  6.51it/s, Loss=0.831, Acc=84.99%]\n",
            "Testing: 100%|██████████| 79/79 [00:04<00:00, 18.13it/s, Loss=0.868, Acc=85.25%]\n"
          ]
        },
        {
          "name": "stdout",
          "output_type": "stream",
          "text": [
            "Train Loss: 0.8305, Train Acc: 84.99%\n",
            "Test Loss: 0.8679, Test Acc: 85.25%\n",
            "Best Test Acc: 85.25%\n",
            "\n",
            "Epoch: 165/200\n"
          ]
        },
        {
          "name": "stderr",
          "output_type": "stream",
          "text": [
            "Training: 100%|██████████| 391/391 [01:00<00:00,  6.50it/s, Loss=0.826, Acc=85.40%]\n",
            "Testing: 100%|██████████| 79/79 [00:04<00:00, 18.68it/s, Loss=0.872, Acc=85.13%]\n"
          ]
        },
        {
          "name": "stdout",
          "output_type": "stream",
          "text": [
            "Train Loss: 0.8259, Train Acc: 85.40%\n",
            "Test Loss: 0.8716, Test Acc: 85.13%\n",
            "Best Test Acc: 85.25%\n",
            "\n",
            "Epoch: 166/200\n"
          ]
        },
        {
          "name": "stderr",
          "output_type": "stream",
          "text": [
            "Training: 100%|██████████| 391/391 [01:00<00:00,  6.50it/s, Loss=0.826, Acc=85.41%]\n",
            "Testing: 100%|██████████| 79/79 [00:04<00:00, 19.46it/s, Loss=0.876, Acc=84.96%]\n"
          ]
        },
        {
          "name": "stdout",
          "output_type": "stream",
          "text": [
            "Train Loss: 0.8256, Train Acc: 85.41%\n",
            "Test Loss: 0.8759, Test Acc: 84.96%\n",
            "Best Test Acc: 85.25%\n",
            "\n",
            "Epoch: 167/200\n"
          ]
        },
        {
          "name": "stderr",
          "output_type": "stream",
          "text": [
            "Training: 100%|██████████| 391/391 [01:00<00:00,  6.51it/s, Loss=0.825, Acc=85.52%]\n",
            "Testing: 100%|██████████| 79/79 [00:04<00:00, 19.49it/s, Loss=0.870, Acc=85.06%]\n"
          ]
        },
        {
          "name": "stdout",
          "output_type": "stream",
          "text": [
            "Train Loss: 0.8246, Train Acc: 85.52%\n",
            "Test Loss: 0.8701, Test Acc: 85.06%\n",
            "Best Test Acc: 85.25%\n",
            "\n",
            "Epoch: 168/200\n"
          ]
        },
        {
          "name": "stderr",
          "output_type": "stream",
          "text": [
            "Training: 100%|██████████| 391/391 [01:00<00:00,  6.50it/s, Loss=0.823, Acc=85.53%]\n",
            "Testing: 100%|██████████| 79/79 [00:04<00:00, 19.73it/s, Loss=0.874, Acc=84.90%]\n"
          ]
        },
        {
          "name": "stdout",
          "output_type": "stream",
          "text": [
            "Train Loss: 0.8233, Train Acc: 85.53%\n",
            "Test Loss: 0.8741, Test Acc: 84.90%\n",
            "Best Test Acc: 85.25%\n",
            "\n",
            "Epoch: 169/200\n"
          ]
        },
        {
          "name": "stderr",
          "output_type": "stream",
          "text": [
            "Training: 100%|██████████| 391/391 [01:00<00:00,  6.49it/s, Loss=0.818, Acc=85.77%]\n",
            "Testing: 100%|██████████| 79/79 [00:04<00:00, 19.71it/s, Loss=0.876, Acc=84.95%]\n"
          ]
        },
        {
          "name": "stdout",
          "output_type": "stream",
          "text": [
            "Train Loss: 0.8181, Train Acc: 85.77%\n",
            "Test Loss: 0.8761, Test Acc: 84.95%\n",
            "Best Test Acc: 85.25%\n",
            "\n",
            "Epoch: 170/200\n"
          ]
        },
        {
          "name": "stderr",
          "output_type": "stream",
          "text": [
            "Training: 100%|██████████| 391/391 [01:00<00:00,  6.49it/s, Loss=0.817, Acc=85.84%]\n",
            "Testing: 100%|██████████| 79/79 [00:04<00:00, 19.68it/s, Loss=0.871, Acc=85.31%]\n"
          ]
        },
        {
          "name": "stdout",
          "output_type": "stream",
          "text": [
            "Train Loss: 0.8166, Train Acc: 85.84%\n",
            "Test Loss: 0.8715, Test Acc: 85.31%\n",
            "Best Test Acc: 85.31%\n",
            "\n",
            "Epoch: 171/200\n"
          ]
        },
        {
          "name": "stderr",
          "output_type": "stream",
          "text": [
            "Training: 100%|██████████| 391/391 [01:00<00:00,  6.49it/s, Loss=0.813, Acc=86.14%]\n",
            "Testing: 100%|██████████| 79/79 [00:03<00:00, 19.78it/s, Loss=0.866, Acc=85.28%]\n"
          ]
        },
        {
          "name": "stdout",
          "output_type": "stream",
          "text": [
            "Train Loss: 0.8129, Train Acc: 86.14%\n",
            "Test Loss: 0.8663, Test Acc: 85.28%\n",
            "Best Test Acc: 85.31%\n",
            "\n",
            "Epoch: 172/200\n"
          ]
        },
        {
          "name": "stderr",
          "output_type": "stream",
          "text": [
            "Training: 100%|██████████| 391/391 [01:00<00:00,  6.50it/s, Loss=0.814, Acc=85.86%]\n",
            "Testing: 100%|██████████| 79/79 [00:04<00:00, 19.49it/s, Loss=0.868, Acc=85.25%]\n"
          ]
        },
        {
          "name": "stdout",
          "output_type": "stream",
          "text": [
            "Train Loss: 0.8143, Train Acc: 85.86%\n",
            "Test Loss: 0.8683, Test Acc: 85.25%\n",
            "Best Test Acc: 85.31%\n",
            "\n",
            "Epoch: 173/200\n"
          ]
        },
        {
          "name": "stderr",
          "output_type": "stream",
          "text": [
            "Training: 100%|██████████| 391/391 [01:00<00:00,  6.48it/s, Loss=0.808, Acc=86.31%]\n",
            "Testing: 100%|██████████| 79/79 [00:04<00:00, 18.58it/s, Loss=0.878, Acc=84.83%]\n"
          ]
        },
        {
          "name": "stdout",
          "output_type": "stream",
          "text": [
            "Train Loss: 0.8076, Train Acc: 86.31%\n",
            "Test Loss: 0.8777, Test Acc: 84.83%\n",
            "Best Test Acc: 85.31%\n",
            "\n",
            "Epoch: 174/200\n"
          ]
        },
        {
          "name": "stderr",
          "output_type": "stream",
          "text": [
            "Training: 100%|██████████| 391/391 [01:00<00:00,  6.50it/s, Loss=0.810, Acc=86.23%]\n",
            "Testing: 100%|██████████| 79/79 [00:04<00:00, 18.55it/s, Loss=0.872, Acc=85.00%]\n"
          ]
        },
        {
          "name": "stdout",
          "output_type": "stream",
          "text": [
            "Train Loss: 0.8102, Train Acc: 86.23%\n",
            "Test Loss: 0.8719, Test Acc: 85.00%\n",
            "Best Test Acc: 85.31%\n",
            "\n",
            "Epoch: 175/200\n"
          ]
        },
        {
          "name": "stderr",
          "output_type": "stream",
          "text": [
            "Training: 100%|██████████| 391/391 [01:00<00:00,  6.51it/s, Loss=0.811, Acc=86.07%]\n",
            "Testing: 100%|██████████| 79/79 [00:04<00:00, 18.28it/s, Loss=0.868, Acc=85.14%]\n"
          ]
        },
        {
          "name": "stdout",
          "output_type": "stream",
          "text": [
            "Train Loss: 0.8109, Train Acc: 86.07%\n",
            "Test Loss: 0.8677, Test Acc: 85.14%\n",
            "Best Test Acc: 85.31%\n",
            "\n",
            "Epoch: 176/200\n"
          ]
        },
        {
          "name": "stderr",
          "output_type": "stream",
          "text": [
            "Training: 100%|██████████| 391/391 [01:00<00:00,  6.50it/s, Loss=0.809, Acc=86.20%]\n",
            "Testing: 100%|██████████| 79/79 [00:04<00:00, 18.61it/s, Loss=0.868, Acc=85.26%]\n"
          ]
        },
        {
          "name": "stdout",
          "output_type": "stream",
          "text": [
            "Train Loss: 0.8087, Train Acc: 86.20%\n",
            "Test Loss: 0.8681, Test Acc: 85.26%\n",
            "Best Test Acc: 85.31%\n",
            "\n",
            "Epoch: 177/200\n"
          ]
        },
        {
          "name": "stderr",
          "output_type": "stream",
          "text": [
            "Training: 100%|██████████| 391/391 [01:00<00:00,  6.50it/s, Loss=0.803, Acc=86.47%]\n",
            "Testing: 100%|██████████| 79/79 [00:04<00:00, 19.24it/s, Loss=0.865, Acc=85.15%]\n"
          ]
        },
        {
          "name": "stdout",
          "output_type": "stream",
          "text": [
            "Train Loss: 0.8033, Train Acc: 86.47%\n",
            "Test Loss: 0.8650, Test Acc: 85.15%\n",
            "Best Test Acc: 85.31%\n",
            "\n",
            "Epoch: 178/200\n"
          ]
        },
        {
          "name": "stderr",
          "output_type": "stream",
          "text": [
            "Training: 100%|██████████| 391/391 [01:00<00:00,  6.49it/s, Loss=0.805, Acc=86.36%]\n",
            "Testing: 100%|██████████| 79/79 [00:04<00:00, 19.60it/s, Loss=0.866, Acc=85.41%]\n"
          ]
        },
        {
          "name": "stdout",
          "output_type": "stream",
          "text": [
            "Train Loss: 0.8048, Train Acc: 86.36%\n",
            "Test Loss: 0.8658, Test Acc: 85.41%\n",
            "Best Test Acc: 85.41%\n",
            "\n",
            "Epoch: 179/200\n"
          ]
        },
        {
          "name": "stderr",
          "output_type": "stream",
          "text": [
            "Training: 100%|██████████| 391/391 [01:00<00:00,  6.49it/s, Loss=0.803, Acc=86.40%]\n",
            "Testing: 100%|██████████| 79/79 [00:04<00:00, 19.42it/s, Loss=0.866, Acc=85.14%]\n"
          ]
        },
        {
          "name": "stdout",
          "output_type": "stream",
          "text": [
            "Train Loss: 0.8034, Train Acc: 86.40%\n",
            "Test Loss: 0.8662, Test Acc: 85.14%\n",
            "Best Test Acc: 85.41%\n",
            "\n",
            "Epoch: 180/200\n"
          ]
        },
        {
          "name": "stderr",
          "output_type": "stream",
          "text": [
            "Training: 100%|██████████| 391/391 [01:00<00:00,  6.50it/s, Loss=0.806, Acc=86.32%]\n",
            "Testing: 100%|██████████| 79/79 [00:04<00:00, 19.75it/s, Loss=0.862, Acc=85.31%]\n"
          ]
        },
        {
          "name": "stdout",
          "output_type": "stream",
          "text": [
            "Train Loss: 0.8062, Train Acc: 86.32%\n",
            "Test Loss: 0.8617, Test Acc: 85.31%\n",
            "Best Test Acc: 85.41%\n",
            "\n",
            "Epoch: 181/200\n"
          ]
        },
        {
          "name": "stderr",
          "output_type": "stream",
          "text": [
            "Training: 100%|██████████| 391/391 [01:00<00:00,  6.50it/s, Loss=0.797, Acc=86.74%]\n",
            "Testing: 100%|██████████| 79/79 [00:04<00:00, 19.47it/s, Loss=0.865, Acc=85.31%]\n"
          ]
        },
        {
          "name": "stdout",
          "output_type": "stream",
          "text": [
            "Train Loss: 0.7966, Train Acc: 86.74%\n",
            "Test Loss: 0.8649, Test Acc: 85.31%\n",
            "Best Test Acc: 85.41%\n",
            "\n",
            "Epoch: 182/200\n"
          ]
        },
        {
          "name": "stderr",
          "output_type": "stream",
          "text": [
            "Training: 100%|██████████| 391/391 [01:00<00:00,  6.49it/s, Loss=0.800, Acc=86.41%]\n",
            "Testing: 100%|██████████| 79/79 [00:04<00:00, 19.59it/s, Loss=0.863, Acc=85.37%]\n"
          ]
        },
        {
          "name": "stdout",
          "output_type": "stream",
          "text": [
            "Train Loss: 0.8004, Train Acc: 86.41%\n",
            "Test Loss: 0.8628, Test Acc: 85.37%\n",
            "Best Test Acc: 85.41%\n",
            "\n",
            "Epoch: 183/200\n"
          ]
        },
        {
          "name": "stderr",
          "output_type": "stream",
          "text": [
            "Training: 100%|██████████| 391/391 [01:00<00:00,  6.49it/s, Loss=0.792, Acc=86.97%]\n",
            "Testing: 100%|██████████| 79/79 [00:04<00:00, 19.53it/s, Loss=0.868, Acc=85.37%]\n"
          ]
        },
        {
          "name": "stdout",
          "output_type": "stream",
          "text": [
            "Train Loss: 0.7919, Train Acc: 86.97%\n",
            "Test Loss: 0.8675, Test Acc: 85.37%\n",
            "Best Test Acc: 85.41%\n",
            "\n",
            "Epoch: 184/200\n"
          ]
        },
        {
          "name": "stderr",
          "output_type": "stream",
          "text": [
            "Training: 100%|██████████| 391/391 [01:00<00:00,  6.47it/s, Loss=0.794, Acc=86.85%]\n",
            "Testing: 100%|██████████| 79/79 [00:04<00:00, 18.88it/s, Loss=0.865, Acc=85.52%]\n"
          ]
        },
        {
          "name": "stdout",
          "output_type": "stream",
          "text": [
            "Train Loss: 0.7940, Train Acc: 86.85%\n",
            "Test Loss: 0.8645, Test Acc: 85.52%\n",
            "Best Test Acc: 85.52%\n",
            "\n",
            "Epoch: 185/200\n"
          ]
        },
        {
          "name": "stderr",
          "output_type": "stream",
          "text": [
            "Training: 100%|██████████| 391/391 [01:00<00:00,  6.49it/s, Loss=0.792, Acc=86.97%]\n",
            "Testing: 100%|██████████| 79/79 [00:04<00:00, 18.28it/s, Loss=0.868, Acc=85.19%]\n"
          ]
        },
        {
          "name": "stdout",
          "output_type": "stream",
          "text": [
            "Train Loss: 0.7917, Train Acc: 86.97%\n",
            "Test Loss: 0.8685, Test Acc: 85.19%\n",
            "Best Test Acc: 85.52%\n",
            "\n",
            "Epoch: 186/200\n"
          ]
        },
        {
          "name": "stderr",
          "output_type": "stream",
          "text": [
            "Training: 100%|██████████| 391/391 [01:00<00:00,  6.51it/s, Loss=0.795, Acc=86.88%]\n",
            "Testing: 100%|██████████| 79/79 [00:04<00:00, 18.08it/s, Loss=0.866, Acc=85.36%]\n"
          ]
        },
        {
          "name": "stdout",
          "output_type": "stream",
          "text": [
            "Train Loss: 0.7947, Train Acc: 86.88%\n",
            "Test Loss: 0.8661, Test Acc: 85.36%\n",
            "Best Test Acc: 85.52%\n",
            "\n",
            "Epoch: 187/200\n"
          ]
        },
        {
          "name": "stderr",
          "output_type": "stream",
          "text": [
            "Training: 100%|██████████| 391/391 [01:00<00:00,  6.51it/s, Loss=0.791, Acc=86.94%]\n",
            "Testing: 100%|██████████| 79/79 [00:04<00:00, 18.46it/s, Loss=0.865, Acc=85.28%]\n"
          ]
        },
        {
          "name": "stdout",
          "output_type": "stream",
          "text": [
            "Train Loss: 0.7913, Train Acc: 86.94%\n",
            "Test Loss: 0.8653, Test Acc: 85.28%\n",
            "Best Test Acc: 85.52%\n",
            "\n",
            "Epoch: 188/200\n"
          ]
        },
        {
          "name": "stderr",
          "output_type": "stream",
          "text": [
            "Training: 100%|██████████| 391/391 [01:00<00:00,  6.50it/s, Loss=0.794, Acc=86.80%]\n",
            "Testing: 100%|██████████| 79/79 [00:04<00:00, 19.73it/s, Loss=0.867, Acc=85.29%]\n"
          ]
        },
        {
          "name": "stdout",
          "output_type": "stream",
          "text": [
            "Train Loss: 0.7939, Train Acc: 86.80%\n",
            "Test Loss: 0.8666, Test Acc: 85.29%\n",
            "Best Test Acc: 85.52%\n",
            "\n",
            "Epoch: 189/200\n"
          ]
        },
        {
          "name": "stderr",
          "output_type": "stream",
          "text": [
            "Training: 100%|██████████| 391/391 [01:00<00:00,  6.49it/s, Loss=0.792, Acc=87.09%]\n",
            "Testing: 100%|██████████| 79/79 [00:04<00:00, 19.74it/s, Loss=0.864, Acc=85.51%]\n"
          ]
        },
        {
          "name": "stdout",
          "output_type": "stream",
          "text": [
            "Train Loss: 0.7920, Train Acc: 87.09%\n",
            "Test Loss: 0.8643, Test Acc: 85.51%\n",
            "Best Test Acc: 85.52%\n",
            "\n",
            "Epoch: 190/200\n"
          ]
        },
        {
          "name": "stderr",
          "output_type": "stream",
          "text": [
            "Training: 100%|██████████| 391/391 [01:00<00:00,  6.48it/s, Loss=0.792, Acc=86.91%]\n",
            "Testing: 100%|██████████| 79/79 [00:04<00:00, 19.41it/s, Loss=0.865, Acc=85.43%]\n"
          ]
        },
        {
          "name": "stdout",
          "output_type": "stream",
          "text": [
            "Train Loss: 0.7916, Train Acc: 86.91%\n",
            "Test Loss: 0.8648, Test Acc: 85.43%\n",
            "Best Test Acc: 85.52%\n",
            "\n",
            "Epoch: 191/200\n"
          ]
        },
        {
          "name": "stderr",
          "output_type": "stream",
          "text": [
            "Training: 100%|██████████| 391/391 [01:00<00:00,  6.49it/s, Loss=0.791, Acc=87.09%]\n",
            "Testing: 100%|██████████| 79/79 [00:04<00:00, 19.71it/s, Loss=0.863, Acc=85.42%]\n"
          ]
        },
        {
          "name": "stdout",
          "output_type": "stream",
          "text": [
            "Train Loss: 0.7909, Train Acc: 87.09%\n",
            "Test Loss: 0.8630, Test Acc: 85.42%\n",
            "Best Test Acc: 85.52%\n",
            "\n",
            "Epoch: 192/200\n"
          ]
        },
        {
          "name": "stderr",
          "output_type": "stream",
          "text": [
            "Training: 100%|██████████| 391/391 [01:00<00:00,  6.49it/s, Loss=0.793, Acc=86.91%]\n",
            "Testing: 100%|██████████| 79/79 [00:04<00:00, 19.56it/s, Loss=0.862, Acc=85.53%]\n"
          ]
        },
        {
          "name": "stdout",
          "output_type": "stream",
          "text": [
            "Train Loss: 0.7929, Train Acc: 86.91%\n",
            "Test Loss: 0.8622, Test Acc: 85.53%\n",
            "Best Test Acc: 85.53%\n",
            "\n",
            "Epoch: 193/200\n"
          ]
        },
        {
          "name": "stderr",
          "output_type": "stream",
          "text": [
            "Training: 100%|██████████| 391/391 [01:00<00:00,  6.49it/s, Loss=0.793, Acc=86.97%]\n",
            "Testing: 100%|██████████| 79/79 [00:04<00:00, 19.01it/s, Loss=0.863, Acc=85.45%]\n"
          ]
        },
        {
          "name": "stdout",
          "output_type": "stream",
          "text": [
            "Train Loss: 0.7931, Train Acc: 86.97%\n",
            "Test Loss: 0.8631, Test Acc: 85.45%\n",
            "Best Test Acc: 85.53%\n",
            "\n",
            "Epoch: 194/200\n"
          ]
        },
        {
          "name": "stderr",
          "output_type": "stream",
          "text": [
            "Training: 100%|██████████| 391/391 [01:00<00:00,  6.50it/s, Loss=0.790, Acc=87.13%]\n",
            "Testing: 100%|██████████| 79/79 [00:04<00:00, 18.53it/s, Loss=0.863, Acc=85.45%]\n"
          ]
        },
        {
          "name": "stdout",
          "output_type": "stream",
          "text": [
            "Train Loss: 0.7901, Train Acc: 87.13%\n",
            "Test Loss: 0.8631, Test Acc: 85.45%\n",
            "Best Test Acc: 85.53%\n",
            "\n",
            "Epoch: 195/200\n"
          ]
        },
        {
          "name": "stderr",
          "output_type": "stream",
          "text": [
            "Training: 100%|██████████| 391/391 [01:00<00:00,  6.50it/s, Loss=0.790, Acc=87.16%]\n",
            "Testing: 100%|██████████| 79/79 [00:04<00:00, 18.35it/s, Loss=0.864, Acc=85.46%]\n"
          ]
        },
        {
          "name": "stdout",
          "output_type": "stream",
          "text": [
            "Train Loss: 0.7901, Train Acc: 87.16%\n",
            "Test Loss: 0.8642, Test Acc: 85.46%\n",
            "Best Test Acc: 85.53%\n",
            "\n",
            "Epoch: 196/200\n"
          ]
        },
        {
          "name": "stderr",
          "output_type": "stream",
          "text": [
            "Training: 100%|██████████| 391/391 [00:59<00:00,  6.52it/s, Loss=0.785, Acc=87.19%]\n",
            "Testing: 100%|██████████| 79/79 [00:04<00:00, 18.19it/s, Loss=0.865, Acc=85.32%]\n"
          ]
        },
        {
          "name": "stdout",
          "output_type": "stream",
          "text": [
            "Train Loss: 0.7850, Train Acc: 87.19%\n",
            "Test Loss: 0.8648, Test Acc: 85.32%\n",
            "Best Test Acc: 85.53%\n",
            "\n",
            "Epoch: 197/200\n"
          ]
        },
        {
          "name": "stderr",
          "output_type": "stream",
          "text": [
            "Training: 100%|██████████| 391/391 [01:00<00:00,  6.50it/s, Loss=0.785, Acc=87.27%]\n",
            "Testing: 100%|██████████| 79/79 [00:04<00:00, 18.90it/s, Loss=0.864, Acc=85.39%]\n"
          ]
        },
        {
          "name": "stdout",
          "output_type": "stream",
          "text": [
            "Train Loss: 0.7854, Train Acc: 87.27%\n",
            "Test Loss: 0.8643, Test Acc: 85.39%\n",
            "Best Test Acc: 85.53%\n",
            "\n",
            "Epoch: 198/200\n"
          ]
        },
        {
          "name": "stderr",
          "output_type": "stream",
          "text": [
            "Training: 100%|██████████| 391/391 [01:00<00:00,  6.48it/s, Loss=0.790, Acc=87.04%]\n",
            "Testing: 100%|██████████| 79/79 [00:04<00:00, 19.64it/s, Loss=0.865, Acc=85.41%]\n"
          ]
        },
        {
          "name": "stdout",
          "output_type": "stream",
          "text": [
            "Train Loss: 0.7896, Train Acc: 87.04%\n",
            "Test Loss: 0.8647, Test Acc: 85.41%\n",
            "Best Test Acc: 85.53%\n",
            "\n",
            "Epoch: 199/200\n"
          ]
        },
        {
          "name": "stderr",
          "output_type": "stream",
          "text": [
            "Training: 100%|██████████| 391/391 [01:00<00:00,  6.51it/s, Loss=0.790, Acc=87.13%]\n",
            "Testing: 100%|██████████| 79/79 [00:04<00:00, 19.48it/s, Loss=0.865, Acc=85.39%]\n"
          ]
        },
        {
          "name": "stdout",
          "output_type": "stream",
          "text": [
            "Train Loss: 0.7897, Train Acc: 87.13%\n",
            "Test Loss: 0.8648, Test Acc: 85.39%\n",
            "Best Test Acc: 85.53%\n",
            "\n",
            "Epoch: 200/200\n"
          ]
        },
        {
          "name": "stderr",
          "output_type": "stream",
          "text": [
            "Training: 100%|██████████| 391/391 [01:00<00:00,  6.50it/s, Loss=0.788, Acc=87.10%]\n",
            "Testing: 100%|██████████| 79/79 [00:04<00:00, 19.71it/s, Loss=0.865, Acc=85.38%]\n"
          ]
        },
        {
          "name": "stdout",
          "output_type": "stream",
          "text": [
            "Train Loss: 0.7882, Train Acc: 87.10%\n",
            "Test Loss: 0.8648, Test Acc: 85.38%\n",
            "Best Test Acc: 85.53%\n",
            "\n",
            "Final Best Accuracy: 85.53%\n"
          ]
        },
        {
          "data": {
            "image/png": "[encoded data removed]",
            "text/plain": [
              "<Figure size 1200x400 with 2 Axes>"
            ]
          },
          "metadata": {},
          "output_type": "display_data"
        },
        {
          "data": {
            "image/png": "[encoded data removed]",
            "text/plain": [
              "<Figure size 1200x600 with 8 Axes>"
            ]
          },
          "metadata": {},
          "output_type": "display_data"
        },
        {
          "name": "stdout",
          "output_type": "stream",
          "text": [
            "\n",
            "Best Test Accuracy Achieved: 85.53%\n"
          ]
        }
      ],
      "source": [
        "# q1.ipynb\n",
        "import torch\n",
        "import torch.nn as nn\n",
        "import torch.optim as optim\n",
        "import torch.nn.functional as F\n",
        "from torch.utils.data import DataLoader\n",
        "import torchvision\n",
        "import torchvision.transforms as transforms\n",
        "import numpy as np\n",
        "import matplotlib.pyplot as plt\n",
        "from tqdm import tqdm\n",
        "import time\n",
        "\n",
        "# Check device\n",
        "device = torch.device(\"cuda\" if torch.cuda.is_available() else \"cpu\")\n",
        "print(f\"Using device: {device}\")\n",
        "\n",
        "# Data preprocessing with augmentation\n",
        "train_transform = transforms.Compose([\n",
        "    transforms.RandomCrop(32, padding=4),\n",
        "    transforms.RandomHorizontalFlip(),\n",
        "    transforms.AutoAugment(torchvision.transforms.AutoAugmentPolicy.CIFAR10),\n",
        "    transforms.ToTensor(),\n",
        "    transforms.Normalize((0.4914, 0.4822, 0.4465), (0.2023, 0.1994, 0.2010)),\n",
        "])\n",
        "\n",
        "test_transform = transforms.Compose([\n",
        "    transforms.ToTensor(),\n",
        "    transforms.Normalize((0.4914, 0.4822, 0.4465), (0.2023, 0.1994, 0.2010)),\n",
        "])\n",
        "\n",
        "# Load CIFAR-10 dataset\n",
        "train_dataset = torchvision.datasets.CIFAR10(\n",
        "    root='./data', train=True, download=True, transform=train_transform)\n",
        "test_dataset = torchvision.datasets.CIFAR10(\n",
        "    root='./data', train=False, download=True, transform=test_transform)\n",
        "\n",
        "train_loader = DataLoader(train_dataset, batch_size=128, shuffle=True, num_workers=2)\n",
        "test_loader = DataLoader(test_dataset, batch_size=128, shuffle=False, num_workers=2)\n",
        "\n",
        "# Vision Transformer Implementation\n",
        "class PatchEmbedding(nn.Module):\n",
        "    def __init__(self, img_size=32, patch_size=4, in_channels=3, embed_dim=256):\n",
        "        super().__init__()\n",
        "        self.img_size = img_size\n",
        "        self.patch_size = patch_size\n",
        "        self.num_patches = (img_size // patch_size) ** 2\n",
        "\n",
        "        self.proj = nn.Conv2d(in_channels, embed_dim,\n",
        "                             kernel_size=patch_size, stride=patch_size)\n",
        "\n",
        "    def forward(self, x):\n",
        "        x = self.proj(x)  # (B, E, H/P, W/P)\n",
        "        x = x.flatten(2)  # (B, E, N)\n",
        "        x = x.transpose(1, 2)  # (B, N, E)\n",
        "        return x\n",
        "\n",
        "class MultiHeadSelfAttention(nn.Module):\n",
        "    def __init__(self, embed_dim=256, num_heads=8, dropout=0.1):\n",
        "        super().__init__()\n",
        "        self.embed_dim = embed_dim\n",
        "        self.num_heads = num_heads\n",
        "        self.head_dim = embed_dim // num_heads\n",
        "\n",
        "        self.qkv = nn.Linear(embed_dim, embed_dim * 3)\n",
        "        self.attn_dropout = nn.Dropout(dropout)\n",
        "        self.proj = nn.Linear(embed_dim, embed_dim)\n",
        "        self.proj_dropout = nn.Dropout(dropout)\n",
        "\n",
        "    def forward(self, x):\n",
        "        B, N, C = x.shape\n",
        "        qkv = self.qkv(x).reshape(B, N, 3, self.num_heads, self.head_dim).permute(2, 0, 3, 1, 4)\n",
        "        q, k, v = qkv[0], qkv[1], qkv[2]\n",
        "\n",
        "        attn = (q @ k.transpose(-2, -1)) * (self.head_dim ** -0.5)\n",
        "        attn = attn.softmax(dim=-1)\n",
        "        attn = self.attn_dropout(attn)\n",
        "\n",
        "        x = (attn @ v).transpose(1, 2).reshape(B, N, C)\n",
        "        x = self.proj(x)\n",
        "        x = self.proj_dropout(x)\n",
        "        return x\n",
        "\n",
        "class MLP(nn.Module):\n",
        "    def __init__(self, in_features, hidden_features, dropout=0.1):\n",
        "        super().__init__()\n",
        "        self.fc1 = nn.Linear(in_features, hidden_features)\n",
        "        self.act = nn.GELU()\n",
        "        self.fc2 = nn.Linear(hidden_features, in_features)\n",
        "        self.dropout = nn.Dropout(dropout)\n",
        "\n",
        "    def forward(self, x):\n",
        "        x = self.fc1(x)\n",
        "        x = self.act(x)\n",
        "        x = self.dropout(x)\n",
        "        x = self.fc2(x)\n",
        "        x = self.dropout(x)\n",
        "        return x\n",
        "\n",
        "class TransformerEncoderBlock(nn.Module):\n",
        "    def __init__(self, embed_dim=256, num_heads=8, mlp_ratio=4, dropout=0.1):\n",
        "        super().__init__()\n",
        "        self.norm1 = nn.LayerNorm(embed_dim)\n",
        "        self.attn = MultiHeadSelfAttention(embed_dim, num_heads, dropout)\n",
        "        self.norm2 = nn.LayerNorm(embed_dim)\n",
        "        self.mlp = MLP(embed_dim, int(embed_dim * mlp_ratio), dropout)\n",
        "\n",
        "    def forward(self, x):\n",
        "        x = x + self.attn(self.norm1(x))\n",
        "        x = x + self.mlp(self.norm2(x))\n",
        "        return x\n",
        "\n",
        "class VisionTransformer(nn.Module):\n",
        "    def __init__(self, img_size=32, patch_size=4, in_channels=3, num_classes=10,\n",
        "                 embed_dim=256, depth=8, num_heads=8, mlp_ratio=4, dropout=0.1):\n",
        "        super().__init__()\n",
        "\n",
        "        self.patch_embed = PatchEmbedding(img_size, patch_size, in_channels, embed_dim)\n",
        "        num_patches = self.patch_embed.num_patches\n",
        "\n",
        "        # CLS token and positional embeddings\n",
        "        self.cls_token = nn.Parameter(torch.zeros(1, 1, embed_dim))\n",
        "        self.pos_embed = nn.Parameter(torch.zeros(1, num_patches + 1, embed_dim))\n",
        "        self.pos_dropout = nn.Dropout(dropout)\n",
        "\n",
        "        # Transformer encoder blocks\n",
        "        self.blocks = nn.ModuleList([\n",
        "            TransformerEncoderBlock(embed_dim, num_heads, mlp_ratio, dropout)\n",
        "            for _ in range(depth)\n",
        "        ])\n",
        "\n",
        "        self.norm = nn.LayerNorm(embed_dim)\n",
        "        self.head = nn.Linear(embed_dim, num_classes)\n",
        "\n",
        "        # Initialize weights\n",
        "        nn.init.trunc_normal_(self.pos_embed, std=0.02)\n",
        "        nn.init.trunc_normal_(self.cls_token, std=0.02)\n",
        "        self.apply(self._init_weights)\n",
        "\n",
        "    def _init_weights(self, m):\n",
        "        if isinstance(m, nn.Linear):\n",
        "            nn.init.trunc_normal_(m.weight, std=0.02)\n",
        "            if m.bias is not None:\n",
        "                nn.init.constant_(m.bias, 0)\n",
        "        elif isinstance(m, nn.LayerNorm):\n",
        "            nn.init.constant_(m.bias, 0)\n",
        "            nn.init.constant_(m.weight, 1.0)\n",
        "\n",
        "    def forward(self, x):\n",
        "        B = x.shape[0]\n",
        "        x = self.patch_embed(x)  # (B, N, E)\n",
        "\n",
        "        # Add CLS token\n",
        "        cls_tokens = self.cls_token.expand(B, -1, -1)\n",
        "        x = torch.cat((cls_tokens, x), dim=1)  # (B, N+1, E)\n",
        "\n",
        "        # Add positional embeddings\n",
        "        x = x + self.pos_embed\n",
        "        x = self.pos_dropout(x)\n",
        "\n",
        "        # Transformer blocks\n",
        "        for block in self.blocks:\n",
        "            x = block(x)\n",
        "\n",
        "        x = self.norm(x)\n",
        "        cls_token_final = x[:, 0]  # CLS token\n",
        "        return self.head(cls_token_final)\n",
        "\n",
        "# Model configuration\n",
        "model = VisionTransformer(\n",
        "    img_size=32,\n",
        "    patch_size=4,\n",
        "    in_channels=3,\n",
        "    num_classes=10,\n",
        "    embed_dim=256,\n",
        "    depth=8,\n",
        "    num_heads=8,\n",
        "    mlp_ratio=4,\n",
        "    dropout=0.1\n",
        ").to(device)\n",
        "\n",
        "# Loss and optimizer\n",
        "criterion = nn.CrossEntropyLoss(label_smoothing=0.1)\n",
        "optimizer = optim.AdamW(model.parameters(), lr=0.001, weight_decay=0.05)\n",
        "\n",
        "# Cosine annealing scheduler\n",
        "scheduler = optim.lr_scheduler.CosineAnnealingLR(optimizer, T_max=200)\n",
        "\n",
        "# Training function\n",
        "def train_epoch(model, loader, optimizer, criterion, device):\n",
        "    model.train()\n",
        "    running_loss = 0.0\n",
        "    correct = 0\n",
        "    total = 0\n",
        "\n",
        "    pbar = tqdm(loader, desc=\"Training\")\n",
        "    for batch_idx, (inputs, targets) in enumerate(pbar):\n",
        "        inputs, targets = inputs.to(device), targets.to(device)\n",
        "\n",
        "        optimizer.zero_grad()\n",
        "        outputs = model(inputs)\n",
        "        loss = criterion(outputs, targets)\n",
        "        loss.backward()\n",
        "\n",
        "        # Gradient clipping\n",
        "        torch.nn.utils.clip_grad_norm_(model.parameters(), 1.0)\n",
        "        optimizer.step()\n",
        "\n",
        "        running_loss += loss.item()\n",
        "        _, predicted = outputs.max(1)\n",
        "        total += targets.size(0)\n",
        "        correct += predicted.eq(targets).sum().item()\n",
        "\n",
        "        pbar.set_postfix({\n",
        "            'Loss': f'{running_loss/(batch_idx+1):.3f}',\n",
        "            'Acc': f'{100.*correct/total:.2f}%'\n",
        "        })\n",
        "\n",
        "    return running_loss/len(loader), 100.*correct/total\n",
        "\n",
        "# Test function\n",
        "def test_epoch(model, loader, criterion, device):\n",
        "    model.eval()\n",
        "    running_loss = 0.0\n",
        "    correct = 0\n",
        "    total = 0\n",
        "\n",
        "    with torch.no_grad():\n",
        "        pbar = tqdm(loader, desc=\"Testing\")\n",
        "        for batch_idx, (inputs, targets) in enumerate(pbar):\n",
        "            inputs, targets = inputs.to(device), targets.to(device)\n",
        "            outputs = model(inputs)\n",
        "            loss = criterion(outputs, targets)\n",
        "\n",
        "            running_loss += loss.item()\n",
        "            _, predicted = outputs.max(1)\n",
        "            total += targets.size(0)\n",
        "            correct += predicted.eq(targets).sum().item()\n",
        "\n",
        "            pbar.set_postfix({\n",
        "                'Loss': f'{running_loss/(batch_idx+1):.3f}',\n",
        "                'Acc': f'{100.*correct/total:.2f}%'\n",
        "            })\n",
        "\n",
        "    return running_loss/len(loader), 100.*correct/total\n",
        "\n",
        "# Training loop\n",
        "print(\"Starting training...\")\n",
        "best_acc = 0\n",
        "train_accuracies = []\n",
        "test_accuracies = []\n",
        "\n",
        "for epoch in range(200):\n",
        "    print(f'\\nEpoch: {epoch+1}/200')\n",
        "    train_loss, train_acc = train_epoch(model, train_loader, optimizer, criterion, device)\n",
        "    test_loss, test_acc = test_epoch(model, test_loader, criterion, device)\n",
        "\n",
        "    scheduler.step()\n",
        "\n",
        "    train_accuracies.append(train_acc)\n",
        "    test_accuracies.append(test_acc)\n",
        "\n",
        "    if test_acc > best_acc:\n",
        "        best_acc = test_acc\n",
        "        torch.save(model.state_dict(), 'best_vit_cifar10.pth')\n",
        "\n",
        "    print(f'Train Loss: {train_loss:.4f}, Train Acc: {train_acc:.2f}%')\n",
        "    print(f'Test Loss: {test_loss:.4f}, Test Acc: {test_acc:.2f}%')\n",
        "    print(f'Best Test Acc: {best_acc:.2f}%')\n",
        "\n",
        "print(f'\\nFinal Best Accuracy: {best_acc:.2f}%')\n",
        "\n",
        "# Plot results\n",
        "plt.figure(figsize=(12, 4))\n",
        "plt.subplot(1, 2, 1)\n",
        "plt.plot(train_accuracies, label='Train Accuracy')\n",
        "plt.plot(test_accuracies, label='Test Accuracy')\n",
        "plt.xlabel('Epoch')\n",
        "plt.ylabel('Accuracy (%)')\n",
        "plt.legend()\n",
        "plt.title('Training and Test Accuracy')\n",
        "\n",
        "plt.subplot(1, 2, 2)\n",
        "# Show some test images with predictions\n",
        "model.eval()\n",
        "with torch.no_grad():\n",
        "    dataiter = iter(test_loader)\n",
        "    images, labels = next(dataiter)\n",
        "    images, labels = images.to(device), labels.to(device)\n",
        "    outputs = model(images)\n",
        "    _, predicted = outputs.max(1)\n",
        "\n",
        "    # Denormalize for visualization\n",
        "    images = images.cpu()\n",
        "    mean = torch.tensor([0.4914, 0.4822, 0.4465]).view(3, 1, 1)\n",
        "    std = torch.tensor([0.2023, 0.1994, 0.2010]).view(3, 1, 1)\n",
        "    images = images * std + mean\n",
        "    images = torch.clamp(images, 0, 1)\n",
        "\n",
        "    # Show first 8 images\n",
        "    fig, axes = plt.subplots(2, 4, figsize=(12, 6))\n",
        "    axes = axes.ravel()\n",
        "    for i in range(8):\n",
        "        axes[i].imshow(images[i].permute(1, 2, 0))\n",
        "        axes[i].set_title(f'True: {labels[i]}, Pred: {predicted[i]}')\n",
        "        axes[i].axis('off')\n",
        "    plt.tight_layout()\n",
        "    plt.show()\n",
        "\n",
        "print(f\"\\nBest Test Accuracy Achieved: {best_acc:.2f}%\")"
      ]
    },
    {
      "cell_type": "code",
      "execution_count": null,
      "metadata": {
        "colab": {
          "base_uri": "https://localhost:8080/"
        },
        "id": "zxOEINJ89NB_",
        "outputId": "ee7d6530-a12d-4a4b-9679-7d9fa1763761"
      },
      "outputs": [
        {
          "output_type": "stream",
          "name": "stdout",
          "text": [
            "Using device: cuda\n"
          ]
        },
        {
          "output_type": "stream",
          "name": "stderr",
          "text": [
            "100%|██████████| 170M/170M [00:03<00:00, 48.9MB/s]\n"
          ]
        },
        {
          "output_type": "stream",
          "name": "stdout",
          "text": [
            "Epoch 1/80 | Train Acc: 33.27% | Val Acc: 41.91% | Time: 26.7s\n",
            "Epoch 2/80 | Train Acc: 45.54% | Val Acc: 49.17% | Time: 27.3s\n",
            "Epoch 3/80 | Train Acc: 51.37% | Val Acc: 54.15% | Time: 26.3s\n",
            "Epoch 4/80 | Train Acc: 54.82% | Val Acc: 56.02% | Time: 27.0s\n",
            "Epoch 5/80 | Train Acc: 57.06% | Val Acc: 59.00% | Time: 26.6s\n",
            "Epoch 6/80 | Train Acc: 58.59% | Val Acc: 60.39% | Time: 26.3s\n",
            "Epoch 7/80 | Train Acc: 60.25% | Val Acc: 62.84% | Time: 26.7s\n",
            "Epoch 8/80 | Train Acc: 61.46% | Val Acc: 64.32% | Time: 26.0s\n",
            "Epoch 9/80 | Train Acc: 62.73% | Val Acc: 65.27% | Time: 26.1s\n",
            "Epoch 10/80 | Train Acc: 63.73% | Val Acc: 65.89% | Time: 26.2s\n",
            "Epoch 11/80 | Train Acc: 64.97% | Val Acc: 66.76% | Time: 26.1s\n",
            "Epoch 12/80 | Train Acc: 65.83% | Val Acc: 67.22% | Time: 26.2s\n",
            "Epoch 13/80 | Train Acc: 66.49% | Val Acc: 68.71% | Time: 26.2s\n",
            "Epoch 14/80 | Train Acc: 67.60% | Val Acc: 69.28% | Time: 25.9s\n",
            "Epoch 15/80 | Train Acc: 68.34% | Val Acc: 69.12% | Time: 27.0s\n",
            "Epoch 16/80 | Train Acc: 68.96% | Val Acc: 71.17% | Time: 26.3s\n",
            "Epoch 17/80 | Train Acc: 69.84% | Val Acc: 71.62% | Time: 27.2s\n",
            "Epoch 18/80 | Train Acc: 70.48% | Val Acc: 71.87% | Time: 26.5s\n",
            "Epoch 19/80 | Train Acc: 71.23% | Val Acc: 72.81% | Time: 26.1s\n",
            "Epoch 20/80 | Train Acc: 72.07% | Val Acc: 71.83% | Time: 26.3s\n",
            "Epoch 21/80 | Train Acc: 72.73% | Val Acc: 74.25% | Time: 26.1s\n",
            "Epoch 22/80 | Train Acc: 73.01% | Val Acc: 74.17% | Time: 25.9s\n",
            "Epoch 23/80 | Train Acc: 73.76% | Val Acc: 73.20% | Time: 34.5s\n",
            "Epoch 24/80 | Train Acc: 74.09% | Val Acc: 74.29% | Time: 26.3s\n",
            "Epoch 25/80 | Train Acc: 74.88% | Val Acc: 75.58% | Time: 26.5s\n",
            "Epoch 26/80 | Train Acc: 75.37% | Val Acc: 76.18% | Time: 27.5s\n",
            "Epoch 27/80 | Train Acc: 75.75% | Val Acc: 76.07% | Time: 26.1s\n",
            "Epoch 28/80 | Train Acc: 76.51% | Val Acc: 76.73% | Time: 26.1s\n",
            "Epoch 29/80 | Train Acc: 76.93% | Val Acc: 75.94% | Time: 27.1s\n",
            "Epoch 30/80 | Train Acc: 77.19% | Val Acc: 76.49% | Time: 26.3s\n",
            "Epoch 31/80 | Train Acc: 77.76% | Val Acc: 77.18% | Time: 27.5s\n",
            "Epoch 32/80 | Train Acc: 77.95% | Val Acc: 77.71% | Time: 27.0s\n",
            "Epoch 33/80 | Train Acc: 78.66% | Val Acc: 77.90% | Time: 26.7s\n",
            "Epoch 34/80 | Train Acc: 78.61% | Val Acc: 78.28% | Time: 26.6s\n",
            "Epoch 35/80 | Train Acc: 79.21% | Val Acc: 78.95% | Time: 26.1s\n",
            "Epoch 36/80 | Train Acc: 79.53% | Val Acc: 78.50% | Time: 26.6s\n",
            "Epoch 37/80 | Train Acc: 79.77% | Val Acc: 79.12% | Time: 26.6s\n",
            "Epoch 38/80 | Train Acc: 79.96% | Val Acc: 79.17% | Time: 26.1s\n",
            "Epoch 39/80 | Train Acc: 80.10% | Val Acc: 79.44% | Time: 26.9s\n",
            "Epoch 40/80 | Train Acc: 80.48% | Val Acc: 79.64% | Time: 26.2s\n",
            "Epoch 41/80 | Train Acc: 80.83% | Val Acc: 79.66% | Time: 26.0s\n",
            "Epoch 42/80 | Train Acc: 81.32% | Val Acc: 79.71% | Time: 26.3s\n",
            "Epoch 43/80 | Train Acc: 81.21% | Val Acc: 79.87% | Time: 25.8s\n",
            "Epoch 44/80 | Train Acc: 81.35% | Val Acc: 79.77% | Time: 25.9s\n",
            "Epoch 45/80 | Train Acc: 81.61% | Val Acc: 80.20% | Time: 26.2s\n",
            "Epoch 46/80 | Train Acc: 81.64% | Val Acc: 79.80% | Time: 26.0s\n",
            "Epoch 47/80 | Train Acc: 81.76% | Val Acc: 80.08% | Time: 27.7s\n",
            "Epoch 48/80 | Train Acc: 81.72% | Val Acc: 80.09% | Time: 26.1s\n",
            "Epoch 49/80 | Train Acc: 81.67% | Val Acc: 79.91% | Time: 26.0s\n",
            "Epoch 50/80 | Train Acc: 81.80% | Val Acc: 79.91% | Time: 27.0s\n",
            "Epoch 51/80 | Train Acc: 81.94% | Val Acc: 79.91% | Time: 26.7s\n",
            "Epoch 52/80 | Train Acc: 81.81% | Val Acc: 79.95% | Time: 26.8s\n",
            "Epoch 53/80 | Train Acc: 82.02% | Val Acc: 80.09% | Time: 26.7s\n",
            "Epoch 54/80 | Train Acc: 81.74% | Val Acc: 80.17% | Time: 27.0s\n",
            "Epoch 55/80 | Train Acc: 81.90% | Val Acc: 80.15% | Time: 28.0s\n",
            "Epoch 56/80 | Train Acc: 81.80% | Val Acc: 80.12% | Time: 27.5s\n",
            "Epoch 57/80 | Train Acc: 81.78% | Val Acc: 79.90% | Time: 26.7s\n",
            "Epoch 58/80 | Train Acc: 81.55% | Val Acc: 80.04% | Time: 26.7s\n",
            "Epoch 59/80 | Train Acc: 81.38% | Val Acc: 80.11% | Time: 26.7s\n",
            "Epoch 60/80 | Train Acc: 81.72% | Val Acc: 79.88% | Time: 26.6s\n",
            "Epoch 61/80 | Train Acc: 81.29% | Val Acc: 79.73% | Time: 26.6s\n",
            "Epoch 62/80 | Train Acc: 81.38% | Val Acc: 80.08% | Time: 26.6s\n",
            "Epoch 63/80 | Train Acc: 81.30% | Val Acc: 79.62% | Time: 27.3s\n",
            "Epoch 64/80 | Train Acc: 81.29% | Val Acc: 79.43% | Time: 26.7s\n",
            "Epoch 65/80 | Train Acc: 81.29% | Val Acc: 79.65% | Time: 26.5s\n",
            "Epoch 66/80 | Train Acc: 81.13% | Val Acc: 78.93% | Time: 27.1s\n",
            "Epoch 67/80 | Train Acc: 80.74% | Val Acc: 79.49% | Time: 26.7s\n",
            "Epoch 68/80 | Train Acc: 80.89% | Val Acc: 79.37% | Time: 26.6s\n",
            "Epoch 69/80 | Train Acc: 80.81% | Val Acc: 79.51% | Time: 26.6s\n",
            "Epoch 70/80 | Train Acc: 80.86% | Val Acc: 79.32% | Time: 26.6s\n",
            "Epoch 71/80 | Train Acc: 80.63% | Val Acc: 78.63% | Time: 27.3s\n",
            "Epoch 72/80 | Train Acc: 80.76% | Val Acc: 78.85% | Time: 26.7s\n",
            "Epoch 73/80 | Train Acc: 80.58% | Val Acc: 78.92% | Time: 26.5s\n",
            "Epoch 74/80 | Train Acc: 80.39% | Val Acc: 78.72% | Time: 27.1s\n",
            "Epoch 75/80 | Train Acc: 80.43% | Val Acc: 79.39% | Time: 27.0s\n",
            "Epoch 76/80 | Train Acc: 80.31% | Val Acc: 77.90% | Time: 27.0s\n",
            "Epoch 77/80 | Train Acc: 80.16% | Val Acc: 78.62% | Time: 26.2s\n",
            "Epoch 78/80 | Train Acc: 80.32% | Val Acc: 78.25% | Time: 26.4s\n",
            "Epoch 79/80 | Train Acc: 80.21% | Val Acc: 78.64% | Time: 27.5s\n",
            "Epoch 80/80 | Train Acc: 80.37% | Val Acc: 78.68% | Time: 26.8s\n",
            "Best Test Accuracy: 80.2\n"
          ]
        }
      ],
      "source": [
        "# q1.ipynb\n",
        "\n",
        "# ===============================\n",
        "# 1️⃣ Imports & Setup\n",
        "# ===============================\n",
        "import torch\n",
        "import torch.nn as nn\n",
        "import torch.nn.functional as F\n",
        "import torch.optim as optim\n",
        "from torch.utils.data import DataLoader\n",
        "from torchvision import datasets, transforms\n",
        "import numpy as np\n",
        "import math\n",
        "import time\n",
        "\n",
        "# Check device\n",
        "device = torch.device('cuda' if torch.cuda.is_available() else 'cpu')\n",
        "print(\"Using device:\", device)\n",
        "\n",
        "# Set random seed for reproducibility\n",
        "torch.manual_seed(42)\n",
        "np.random.seed(42)\n",
        "\n",
        "# ===============================\n",
        "# 2️⃣ Data Loading & Preprocessing\n",
        "# ===============================\n",
        "# CIFAR-10 normalization values\n",
        "mean = [0.4914, 0.4822, 0.4465]\n",
        "std = [0.247, 0.243, 0.261]\n",
        "\n",
        "train_transform = transforms.Compose([\n",
        "    transforms.RandomCrop(32, padding=4),\n",
        "    transforms.RandomHorizontalFlip(),\n",
        "    transforms.ToTensor(),\n",
        "    transforms.Normalize(mean, std)\n",
        "])\n",
        "\n",
        "test_transform = transforms.Compose([\n",
        "    transforms.ToTensor(),\n",
        "    transforms.Normalize(mean, std)\n",
        "])\n",
        "\n",
        "train_dataset = datasets.CIFAR10(root='./data', train=True, download=True, transform=train_transform)\n",
        "test_dataset = datasets.CIFAR10(root='./data', train=False, download=True, transform=test_transform)\n",
        "\n",
        "batch_size = 128\n",
        "train_loader = DataLoader(train_dataset, batch_size=batch_size, shuffle=True, num_workers=2)\n",
        "test_loader = DataLoader(test_dataset, batch_size=batch_size, shuffle=False, num_workers=2)\n",
        "\n",
        "# ===============================\n",
        "# 3️⃣ Vision Transformer (ViT)\n",
        "# ===============================\n",
        "class PatchEmbedding(nn.Module):\n",
        "    def __init__(self, img_size=32, patch_size=4, in_chans=3, embed_dim=128):\n",
        "        super().__init__()\n",
        "        self.num_patches = (img_size // patch_size) ** 2\n",
        "        self.patch_size = patch_size\n",
        "        self.proj = nn.Conv2d(in_chans, embed_dim, kernel_size=patch_size, stride=patch_size)\n",
        "\n",
        "    def forward(self, x):\n",
        "        x = self.proj(x)  # (B, embed_dim, H/P, W/P)\n",
        "        x = x.flatten(2).transpose(1,2)  # (B, num_patches, embed_dim)\n",
        "        return x\n",
        "\n",
        "class MultiHeadSelfAttention(nn.Module):\n",
        "    def __init__(self, embed_dim=128, num_heads=4, dropout=0.1):\n",
        "        super().__init__()\n",
        "        self.mha = nn.MultiheadAttention(embed_dim, num_heads, dropout=dropout, batch_first=True)\n",
        "\n",
        "    def forward(self, x):\n",
        "        # Self-attention\n",
        "        attn_output, _ = self.mha(x, x, x)\n",
        "        return attn_output\n",
        "\n",
        "class TransformerBlock(nn.Module):\n",
        "    def __init__(self, embed_dim=128, num_heads=4, mlp_ratio=4., dropout=0.1):\n",
        "        super().__init__()\n",
        "        self.norm1 = nn.LayerNorm(embed_dim)\n",
        "        self.attn = MultiHeadSelfAttention(embed_dim, num_heads, dropout)\n",
        "        self.norm2 = nn.LayerNorm(embed_dim)\n",
        "        self.mlp = nn.Sequential(\n",
        "            nn.Linear(embed_dim, int(embed_dim*mlp_ratio)),\n",
        "            nn.GELU(),\n",
        "            nn.Dropout(dropout),\n",
        "            nn.Linear(int(embed_dim*mlp_ratio), embed_dim),\n",
        "            nn.Dropout(dropout)\n",
        "        )\n",
        "\n",
        "    def forward(self, x):\n",
        "        x = x + self.attn(self.norm1(x))\n",
        "        x = x + self.mlp(self.norm2(x))\n",
        "        return x\n",
        "\n",
        "class VisionTransformer(nn.Module):\n",
        "    def __init__(self, img_size=32, patch_size=4, in_chans=3, num_classes=10, embed_dim=128, depth=6, num_heads=4, mlp_ratio=4., dropout=0.1):\n",
        "        super().__init__()\n",
        "        self.patch_embed = PatchEmbedding(img_size, patch_size, in_chans, embed_dim)\n",
        "        num_patches = self.patch_embed.num_patches\n",
        "\n",
        "        # CLS token\n",
        "        self.cls_token = nn.Parameter(torch.zeros(1,1,embed_dim))\n",
        "        # Positional embeddings\n",
        "        self.pos_embed = nn.Parameter(torch.zeros(1, num_patches+1, embed_dim))\n",
        "        self.dropout = nn.Dropout(dropout)\n",
        "\n",
        "        # Transformer blocks\n",
        "        self.blocks = nn.ModuleList([\n",
        "            TransformerBlock(embed_dim, num_heads, mlp_ratio, dropout) for _ in range(depth)\n",
        "        ])\n",
        "        self.norm = nn.LayerNorm(embed_dim)\n",
        "        self.head = nn.Linear(embed_dim, num_classes)\n",
        "\n",
        "        # Initialize\n",
        "        nn.init.trunc_normal_(self.pos_embed, std=0.02)\n",
        "        nn.init.trunc_normal_(self.cls_token, std=0.02)\n",
        "        self.apply(self._init_weights)\n",
        "\n",
        "    def _init_weights(self, m):\n",
        "        if isinstance(m, nn.Linear):\n",
        "            nn.init.trunc_normal_(m.weight, std=0.02)\n",
        "            if m.bias is not None:\n",
        "                nn.init.zeros_(m.bias)\n",
        "        elif isinstance(m, nn.LayerNorm):\n",
        "            nn.init.ones_(m.weight)\n",
        "            nn.init.zeros_(m.bias)\n",
        "\n",
        "    def forward(self, x):\n",
        "        B = x.shape[0]\n",
        "        x = self.patch_embed(x)\n",
        "        cls_tokens = self.cls_token.expand(B, -1, -1)  # (B,1,embed_dim)\n",
        "        x = torch.cat((cls_tokens, x), dim=1)  # prepend CLS\n",
        "        x = x + self.pos_embed\n",
        "        x = self.dropout(x)\n",
        "        for blk in self.blocks:\n",
        "            x = blk(x)\n",
        "        x = self.norm(x)\n",
        "        cls_output = x[:,0]\n",
        "        x = self.head(cls_output)\n",
        "        return x\n",
        "\n",
        "# ===============================\n",
        "# 4️⃣ Training Setup\n",
        "# ===============================\n",
        "model = VisionTransformer(\n",
        "    img_size=32, patch_size=4, in_chans=3, num_classes=10,\n",
        "    embed_dim=128, depth=6, num_heads=4, mlp_ratio=4., dropout=0.1\n",
        ").to(device)\n",
        "\n",
        "criterion = nn.CrossEntropyLoss()\n",
        "optimizer = optim.AdamW(model.parameters(), lr=3e-4, weight_decay=0.05)\n",
        "scheduler = optim.lr_scheduler.CosineAnnealingLR(optimizer, T_max=50)\n",
        "\n",
        "num_epochs = 80\n",
        "\n",
        "# ===============================\n",
        "# 5️⃣ Training & Evaluation\n",
        "# ===============================\n",
        "def train_one_epoch(model, loader, optimizer, criterion):\n",
        "    model.train()\n",
        "    running_loss = 0\n",
        "    correct = 0\n",
        "    total = 0\n",
        "    for imgs, labels in loader:\n",
        "        imgs, labels = imgs.to(device), labels.to(device)\n",
        "        optimizer.zero_grad()\n",
        "        outputs = model(imgs)\n",
        "        loss = criterion(outputs, labels)\n",
        "        loss.backward()\n",
        "        optimizer.step()\n",
        "        running_loss += loss.item() * imgs.size(0)\n",
        "        preds = outputs.argmax(dim=1)\n",
        "        correct += (preds==labels).sum().item()\n",
        "        total += labels.size(0)\n",
        "    return running_loss/total, correct/total*100\n",
        "\n",
        "def evaluate(model, loader, criterion):\n",
        "    model.eval()\n",
        "    running_loss = 0\n",
        "    correct = 0\n",
        "    total = 0\n",
        "    with torch.no_grad():\n",
        "        for imgs, labels in loader:\n",
        "            imgs, labels = imgs.to(device), labels.to(device)\n",
        "            outputs = model(imgs)\n",
        "            loss = criterion(outputs, labels)\n",
        "            running_loss += loss.item() * imgs.size(0)\n",
        "            preds = outputs.argmax(dim=1)\n",
        "            correct += (preds==labels).sum().item()\n",
        "            total += labels.size(0)\n",
        "    return running_loss/total, correct/total*100\n",
        "\n",
        "# Training loop\n",
        "best_acc = 0\n",
        "for epoch in range(num_epochs):\n",
        "    start_time = time.time()\n",
        "    train_loss, train_acc = train_one_epoch(model, train_loader, optimizer, criterion)\n",
        "    val_loss, val_acc = evaluate(model, test_loader, criterion)\n",
        "    scheduler.step()\n",
        "    if val_acc > best_acc:\n",
        "        best_acc = val_acc\n",
        "        torch.save(model.state_dict(), \"best_vit_cifar10.pth\")\n",
        "    end_time = time.time()\n",
        "    print(f\"Epoch {epoch+1}/{num_epochs} | Train Acc: {train_acc:.2f}% | Val Acc: {val_acc:.2f}% | Time: {end_time-start_time:.1f}s\")\n",
        "\n",
        "print(\"Best Test Accuracy:\", best_acc)\n"
      ]
    },
    {
      "cell_type": "code",
      "execution_count": null,
      "metadata": {
        "id": "dcxDVx_jY6oV"
      },
      "outputs": [],
      "source": []
    }
  ],
  "metadata": {
    "accelerator": "GPU",
    "colab": {
      "gpuType": "T4",
      "provenance": [],
      "authorship_tag": "ABX9TyMYP4QCNIxEzSjiPNmCNGdJ",
      "include_colab_link": true
    },
    "kernelspec": {
      "display_name": "Python 3",
      "name": "python3"
    },
    "language_info": {
      "name": "python"
    }
  },
  "nbformat": 4,
  "nbformat_minor": 0
}